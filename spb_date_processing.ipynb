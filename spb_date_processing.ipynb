{
 "cells": [
  {
   "cell_type": "code",
   "execution_count": 1,
   "metadata": {},
   "outputs": [],
   "source": [
    "# this notebook will give you the appotunity to work with dynamic data"
   ]
  },
  {
   "cell_type": "code",
   "execution_count": 2,
   "metadata": {},
   "outputs": [],
   "source": [
    "import pandas as pd\n",
    "import numpy as np\n",
    "import warnings\n",
    "warnings.filterwarnings('ignore')\n",
    "from scipy.stats import trimboth\n",
    "import ast\n",
    "import time\n",
    "import datetime\n",
    "import geopy\n",
    "from tqdm import tqdm\n",
    "import geopy.distance\n",
    "from tqdm._tqdm_notebook import tqdm_notebook\n",
    "tqdm.pandas(desc=\"Bar\")"
   ]
  },
  {
   "cell_type": "code",
   "execution_count": 3,
   "metadata": {},
   "outputs": [
    {
     "data": {
      "text/html": [
       "        <script type=\"text/javascript\">\n",
       "        window.PlotlyConfig = {MathJaxConfig: 'local'};\n",
       "        if (window.MathJax) {MathJax.Hub.Config({SVG: {font: \"STIX-Web\"}});}\n",
       "        if (typeof require !== 'undefined') {\n",
       "        require.undef(\"plotly\");\n",
       "        requirejs.config({\n",
       "            paths: {\n",
       "                'plotly': ['https://cdn.plot.ly/plotly-latest.min']\n",
       "            }\n",
       "        });\n",
       "        require(['plotly'], function(Plotly) {\n",
       "            window._Plotly = Plotly;\n",
       "        });\n",
       "        }\n",
       "        </script>\n",
       "        "
      ]
     },
     "metadata": {},
     "output_type": "display_data"
    }
   ],
   "source": [
    "import plotly.offline as pyo\n",
    "import chart_studio.plotly as chspy\n",
    "from plotly.offline import download_plotlyjs, init_notebook_mode, plot, iplot\n",
    "import plotly.graph_objs as go\n",
    "import plotly.express as px\n",
    "\n",
    "init_notebook_mode(connected=True)"
   ]
  },
  {
   "cell_type": "code",
   "execution_count": 4,
   "metadata": {},
   "outputs": [],
   "source": [
    "import matplotlib.pyplot as plt\n",
    "from sklearn.cluster import KMeans\n",
    "import seaborn as sns; sns.set()\n",
    "import csv"
   ]
  },
  {
   "cell_type": "code",
   "execution_count": 5,
   "metadata": {},
   "outputs": [],
   "source": [
    "flats = pd.read_csv('final.csv', index_col=0)"
   ]
  },
  {
   "cell_type": "code",
   "execution_count": 6,
   "metadata": {},
   "outputs": [],
   "source": [
    "spb = flats[(flats.trade_type == 'sale')&\\\n",
    "            ((flats.city == 'Санкт-Петербург')| (flats.city == 'Ленинградская область'))]"
   ]
  },
  {
   "cell_type": "code",
   "execution_count": 7,
   "metadata": {
    "scrolled": true
   },
   "outputs": [],
   "source": [
    "spb['date'] = spb.date_of_adding_to_db"
   ]
  },
  {
   "cell_type": "code",
   "execution_count": 8,
   "metadata": {},
   "outputs": [],
   "source": [
    "#made list of unique dates\n",
    "date_list = spb.date.unique()"
   ]
  },
  {
   "cell_type": "code",
   "execution_count": 9,
   "metadata": {},
   "outputs": [],
   "source": [
    "# for every cian_id made column which tells when ads became passive\n",
    "spb = pd.merge(spb, spb[spb.active==False].groupby('cian_id')['date'].min().reset_index().rename(columns={'date':'min_passive_date'}),\n",
    "               on='cian_id', how='left')"
   ]
  },
  {
   "cell_type": "code",
   "execution_count": 10,
   "metadata": {},
   "outputs": [],
   "source": [
    "#for a certain day found max active date\n",
    "# max_active_ads = spb[(date_list[53]<spb.min_passive_date)| pd.isnull(spb.min_passive_date) & \\\n",
    "#    (spb.active==True)].groupby('cian_id')['date'].max().reset_index()"
   ]
  },
  {
   "cell_type": "code",
   "execution_count": 11,
   "metadata": {
    "scrolled": true
   },
   "outputs": [],
   "source": [
    "#made merge \n",
    "# pd.merge(spb, max_active_ads, on=['cian_id', 'date']).head()"
   ]
  },
  {
   "cell_type": "code",
   "execution_count": 12,
   "metadata": {},
   "outputs": [],
   "source": [
    "date_dict = {}"
   ]
  },
  {
   "cell_type": "code",
   "execution_count": 13,
   "metadata": {},
   "outputs": [
    {
     "name": "stderr",
     "output_type": "stream",
     "text": [
      "100%|████████████████████████████████████████████████████████████████████████████████████████████████████| 54/54 [00:47<00:00,  1.13it/s]\n"
     ]
    }
   ],
   "source": [
    "for date in tqdm(date_list):\n",
    "    max_active_ads = spb[(date<spb.min_passive_date)| pd.isnull(spb.min_passive_date) & \\\n",
    "   (spb.active==True)].groupby('cian_id')['date'].max().reset_index()\n",
    "    date_dict[date] = pd.merge(spb, max_active_ads, on=['cian_id', 'date'])"
   ]
  },
  {
   "cell_type": "code",
   "execution_count": 14,
   "metadata": {},
   "outputs": [
    {
     "name": "stdout",
     "output_type": "stream",
     "text": [
      "2020-02-27 6769\n",
      "2020-02-28 6769\n",
      "2020-02-29 6769\n",
      "2020-03-01 6769\n",
      "2020-03-02 6769\n",
      "2020-03-03 6769\n",
      "2020-03-04 6769\n",
      "2020-03-05 6769\n",
      "2020-03-06 6769\n",
      "2020-03-07 6769\n",
      "2020-03-08 6769\n",
      "2020-03-09 6769\n",
      "2020-03-10 6769\n",
      "2020-03-11 6769\n",
      "2020-03-12 6769\n",
      "2020-03-13 6766\n",
      "2020-03-14 6766\n",
      "2020-03-15 6766\n",
      "2020-03-18 6766\n",
      "2020-03-19 6766\n",
      "2020-03-20 6766\n",
      "2020-03-21 6766\n",
      "2020-03-22 6766\n",
      "2020-03-24 6766\n",
      "2020-03-26 6766\n",
      "2020-03-27 6766\n",
      "2020-03-28 6766\n",
      "2020-03-29 6766\n",
      "2020-03-30 6766\n",
      "2020-03-31 6766\n",
      "2020-04-01 6766\n",
      "2020-04-02 6766\n",
      "2020-04-03 6766\n",
      "2020-04-04 6766\n",
      "2020-04-05 6766\n",
      "2020-04-07 6754\n",
      "2020-04-08 6726\n",
      "2020-04-09 6681\n",
      "2020-04-10 6527\n",
      "2020-04-12 6426\n",
      "2020-04-13 6257\n",
      "2020-04-14 6121\n",
      "2020-04-15 5997\n",
      "2020-04-16 4561\n",
      "2020-04-17 3908\n",
      "2020-04-18 3796\n",
      "2020-04-19 3665\n",
      "2020-04-20 3290\n",
      "2020-04-21 3238\n",
      "2020-04-22 3217\n",
      "2020-04-23 3096\n",
      "2020-04-24 3057\n",
      "2020-04-25 3029\n",
      "2020-04-26 2993\n"
     ]
    }
   ],
   "source": [
    "for i in date_dict:\n",
    "    print(i, date_dict[i].cian_id.count())"
   ]
  },
  {
   "cell_type": "code",
   "execution_count": null,
   "metadata": {},
   "outputs": [],
   "source": []
  },
  {
   "cell_type": "code",
   "execution_count": 15,
   "metadata": {},
   "outputs": [
    {
     "name": "stdout",
     "output_type": "stream",
     "text": [
      "2020-02-27 142609.49971767364\n",
      "2020-02-28 142609.49971767364\n",
      "2020-02-29 142609.49971767364\n",
      "2020-03-01 142609.49971767364\n",
      "2020-03-02 142609.49971767364\n",
      "2020-03-03 142609.49971767364\n",
      "2020-03-04 142609.49971767364\n",
      "2020-03-05 142609.49971767364\n",
      "2020-03-06 142609.49971767364\n",
      "2020-03-07 142609.49971767364\n",
      "2020-03-08 142609.49971767364\n",
      "2020-03-09 142609.49971767364\n",
      "2020-03-10 142609.49971767364\n",
      "2020-03-11 142609.49971767364\n",
      "2020-03-12 142609.49971767364\n",
      "2020-03-13 142634.44400452488\n",
      "2020-03-14 142634.44400452488\n",
      "2020-03-15 142634.44400452488\n",
      "2020-03-18 142634.44400452488\n",
      "2020-03-19 142634.44400452488\n",
      "2020-03-20 142634.44400452488\n",
      "2020-03-21 142634.44400452488\n",
      "2020-03-22 142634.44400452488\n",
      "2020-03-24 142634.44400452488\n",
      "2020-03-26 142634.44400452488\n",
      "2020-03-27 142634.44400452488\n",
      "2020-03-28 142634.44400452488\n",
      "2020-03-29 142634.44400452488\n",
      "2020-03-30 142634.44400452488\n",
      "2020-03-31 142634.44400452488\n",
      "2020-04-01 142634.44400452488\n",
      "2020-04-02 142634.44400452488\n",
      "2020-04-03 142634.44400452488\n",
      "2020-04-04 142634.44400452488\n",
      "2020-04-05 142634.44400452488\n",
      "2020-04-07 142645.5530346001\n",
      "2020-04-08 142755.72566875356\n",
      "2020-04-09 142937.52710495962\n",
      "2020-04-10 143544.92502951593\n",
      "2020-04-12 144105.7341772152\n",
      "2020-04-13 145185.45949288807\n",
      "2020-04-14 145522.25141776938\n",
      "2020-04-15 145754.13218390805\n",
      "2020-04-16 141668.01850220264\n",
      "2020-04-17 121284.0647249191\n",
      "2020-04-18 120924.43673012318\n",
      "2020-04-19 121003.98838559815\n",
      "2020-04-20 121514.25192802056\n",
      "2020-04-21 121404.34293193718\n",
      "2020-04-22 121350.12220762155\n",
      "2020-04-23 121410.01490514904\n",
      "2020-04-24 121449.02585034014\n",
      "2020-04-25 121448.99178082192\n",
      "2020-04-26 121889.47198879551\n"
     ]
    }
   ],
   "source": [
    "for i in date_dict: \n",
    "    temp_data = date_dict[i]\n",
    "    print(i, temp_data[temp_data.Number_of_rooms==1]['price_per_sq_meter'].mean())"
   ]
  }
 ],
 "metadata": {
  "kernelspec": {
   "display_name": "Python 3",
   "language": "python",
   "name": "python3"
  },
  "language_info": {
   "codemirror_mode": {
    "name": "ipython",
    "version": 3
   },
   "file_extension": ".py",
   "mimetype": "text/x-python",
   "name": "python",
   "nbconvert_exporter": "python",
   "pygments_lexer": "ipython3",
   "version": "3.7.4"
  }
 },
 "nbformat": 4,
 "nbformat_minor": 2
}
