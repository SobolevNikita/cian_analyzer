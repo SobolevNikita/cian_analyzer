{
 "cells": [
  {
   "cell_type": "code",
   "execution_count": 57,
   "metadata": {},
   "outputs": [],
   "source": [
    "#этот файл для пространственного анализа"
   ]
  },
  {
   "cell_type": "code",
   "execution_count": 1,
   "metadata": {},
   "outputs": [],
   "source": [
    "import pandas as pd\n",
    "import numpy as np\n",
    "import warnings\n",
    "warnings.filterwarnings('ignore')\n",
    "from scipy.stats import trimboth\n",
    "import ast\n",
    "import geopy\n",
    "from tqdm import tqdm\n",
    "import geopy.distance\n",
    "from tqdm._tqdm_notebook import tqdm_notebook\n",
    "tqdm.pandas(desc=\"Example Desc\")"
   ]
  },
  {
   "cell_type": "code",
   "execution_count": 2,
   "metadata": {},
   "outputs": [
    {
     "data": {
      "text/html": [
       "        <script type=\"text/javascript\">\n",
       "        window.PlotlyConfig = {MathJaxConfig: 'local'};\n",
       "        if (window.MathJax) {MathJax.Hub.Config({SVG: {font: \"STIX-Web\"}});}\n",
       "        if (typeof require !== 'undefined') {\n",
       "        require.undef(\"plotly\");\n",
       "        requirejs.config({\n",
       "            paths: {\n",
       "                'plotly': ['https://cdn.plot.ly/plotly-latest.min']\n",
       "            }\n",
       "        });\n",
       "        require(['plotly'], function(Plotly) {\n",
       "            window._Plotly = Plotly;\n",
       "        });\n",
       "        }\n",
       "        </script>\n",
       "        "
      ]
     },
     "metadata": {},
     "output_type": "display_data"
    }
   ],
   "source": [
    "import plotly.offline as pyo\n",
    "import chart_studio.plotly as chspy\n",
    "from plotly.offline import download_plotlyjs, init_notebook_mode, plot, iplot\n",
    "import plotly.graph_objs as go\n",
    "import plotly.express as px\n",
    "from plotly.subplots import make_subplots\n",
    "\n",
    "init_notebook_mode(connected=True)"
   ]
  },
  {
   "cell_type": "code",
   "execution_count": 3,
   "metadata": {},
   "outputs": [],
   "source": [
    "import matplotlib.pyplot as plt\n",
    "from sklearn.cluster import KMeans\n",
    "import seaborn as sns; sns.set()\n",
    "import csv"
   ]
  },
  {
   "cell_type": "code",
   "execution_count": 4,
   "metadata": {},
   "outputs": [],
   "source": [
    "flats = pd.read_csv('final.csv', index_col=0)"
   ]
  },
  {
   "cell_type": "markdown",
   "metadata": {},
   "source": [
    "### Count number of adds in a region"
   ]
  },
  {
   "cell_type": "code",
   "execution_count": 5,
   "metadata": {},
   "outputs": [],
   "source": [
    "spb = flats[(flats.trade_type == 'sale')&\\\n",
    "            ((flats.city == 'Санкт-Петербург'))]\n",
    "             #|(flats.city == 'Ленинградская область'))]"
   ]
  },
  {
   "cell_type": "code",
   "execution_count": 6,
   "metadata": {
    "scrolled": false
   },
   "outputs": [
    {
     "data": {
      "text/plain": [
       "trade_type\n",
       "sale    13257\n",
       "Name: _id, dtype: int64"
      ]
     },
     "execution_count": 6,
     "metadata": {},
     "output_type": "execute_result"
    }
   ],
   "source": [
    "spb.groupby('trade_type')['_id'].count().sort_values()"
   ]
  },
  {
   "cell_type": "code",
   "execution_count": 7,
   "metadata": {},
   "outputs": [
    {
     "data": {
      "text/plain": [
       "3386      225953549.0\n",
       "3389      225953547.0\n",
       "5351      225955514.0\n",
       "6883      225957043.0\n",
       "6914      225957063.0\n",
       "             ...     \n",
       "443601    228206970.0\n",
       "443727    228208201.0\n",
       "443767    228254567.0\n",
       "443782    228208323.0\n",
       "443822    228297740.0\n",
       "Name: cian_id, Length: 13257, dtype: float64"
      ]
     },
     "execution_count": 7,
     "metadata": {},
     "output_type": "execute_result"
    }
   ],
   "source": [
    "spb.cian_id"
   ]
  },
  {
   "cell_type": "markdown",
   "metadata": {},
   "source": [
    "Введем расстояние от центра города в spb"
   ]
  },
  {
   "cell_type": "code",
   "execution_count": 8,
   "metadata": {},
   "outputs": [],
   "source": [
    "def get_dist(x):\n",
    "    if (np.isnan(x.latitude)  or np.isnan(x.longitude)):\n",
    "        return np.nan\n",
    "    else:\n",
    "        return geopy.distance.vincenty((x.latitude, x.longitude),\\\n",
    "                                     (59.939095, 30.315868)).km"
   ]
  },
  {
   "cell_type": "code",
   "execution_count": 9,
   "metadata": {},
   "outputs": [
    {
     "name": "stderr",
     "output_type": "stream",
     "text": [
      "Example Desc: 100%|████████████████████████████████████████████████████████████| 13257/13257 [00:01<00:00, 7356.85it/s]\n"
     ]
    }
   ],
   "source": [
    "spb['distance'] = spb.progress_apply(get_dist, axis=1)"
   ]
  },
  {
   "cell_type": "code",
   "execution_count": 10,
   "metadata": {},
   "outputs": [],
   "source": [
    "spb = spb[spb['distance']<20]"
   ]
  },
  {
   "cell_type": "code",
   "execution_count": 11,
   "metadata": {
    "scrolled": true
   },
   "outputs": [
    {
     "data": {
      "text/plain": [
       "New_building\n",
       "1.0    1657\n",
       "0.0    6580\n",
       "Name: id, dtype: int64"
      ]
     },
     "execution_count": 11,
     "metadata": {},
     "output_type": "execute_result"
    }
   ],
   "source": [
    "spb.groupby('New_building')['id'].count().sort_values()"
   ]
  },
  {
   "cell_type": "code",
   "execution_count": 12,
   "metadata": {},
   "outputs": [],
   "source": [
    "spb_cluster = spb[['longitude', 'latitude', 'price_per_sq_meter']]"
   ]
  },
  {
   "cell_type": "code",
   "execution_count": 13,
   "metadata": {
    "scrolled": true
   },
   "outputs": [],
   "source": [
    "# from IPython.display import Image\n",
    "# from IPython.core.display import HTML , display\n",
    "# x = flats[flats.cian_id==228193926].pic_urls.values[0]#[247768]\n",
    "# for i in ast.literal_eval(x):\n",
    "#     display(Image(url= i))"
   ]
  },
  {
   "cell_type": "markdown",
   "metadata": {},
   "source": [
    "## Statistic analysis"
   ]
  },
  {
   "cell_type": "code",
   "execution_count": 14,
   "metadata": {},
   "outputs": [],
   "source": [
    "clustering_data=spb[spb.trade_type=='sale']\\\n",
    "[['price_per_sq_meter', 'latitude', 'longitude', '_id']].dropna()"
   ]
  },
  {
   "cell_type": "code",
   "execution_count": 15,
   "metadata": {},
   "outputs": [
    {
     "data": {
      "text/html": [
       "<div>\n",
       "<style scoped>\n",
       "    .dataframe tbody tr th:only-of-type {\n",
       "        vertical-align: middle;\n",
       "    }\n",
       "\n",
       "    .dataframe tbody tr th {\n",
       "        vertical-align: top;\n",
       "    }\n",
       "\n",
       "    .dataframe thead th {\n",
       "        text-align: right;\n",
       "    }\n",
       "</style>\n",
       "<table border=\"1\" class=\"dataframe\">\n",
       "  <thead>\n",
       "    <tr style=\"text-align: right;\">\n",
       "      <th></th>\n",
       "      <th>price_per_sq_meter</th>\n",
       "      <th>latitude</th>\n",
       "      <th>longitude</th>\n",
       "      <th>_id</th>\n",
       "    </tr>\n",
       "  </thead>\n",
       "  <tbody>\n",
       "    <tr>\n",
       "      <td>3386</td>\n",
       "      <td>115713.0</td>\n",
       "      <td>60.023989</td>\n",
       "      <td>30.235693</td>\n",
       "      <td>ObjectId(5e57a1a4089b1f8c93fac038)</td>\n",
       "    </tr>\n",
       "    <tr>\n",
       "      <td>3389</td>\n",
       "      <td>78661.0</td>\n",
       "      <td>59.966607</td>\n",
       "      <td>30.480724</td>\n",
       "      <td>ObjectId(5e57a1a9550a1f3209fac030)</td>\n",
       "    </tr>\n",
       "    <tr>\n",
       "      <td>5351</td>\n",
       "      <td>31475.0</td>\n",
       "      <td>59.987677</td>\n",
       "      <td>30.333652</td>\n",
       "      <td>ObjectId(5e57bf52eca493834fe53abc)</td>\n",
       "    </tr>\n",
       "    <tr>\n",
       "      <td>6883</td>\n",
       "      <td>80986.0</td>\n",
       "      <td>59.956756</td>\n",
       "      <td>30.434947</td>\n",
       "      <td>ObjectId(5e57d681d5f1676340dd8a1b)</td>\n",
       "    </tr>\n",
       "    <tr>\n",
       "      <td>6914</td>\n",
       "      <td>100000.0</td>\n",
       "      <td>59.827480</td>\n",
       "      <td>30.168223</td>\n",
       "      <td>ObjectId(5e57d6e4aa71187686dd8a21)</td>\n",
       "    </tr>\n",
       "  </tbody>\n",
       "</table>\n",
       "</div>"
      ],
      "text/plain": [
       "      price_per_sq_meter   latitude  longitude  \\\n",
       "3386            115713.0  60.023989  30.235693   \n",
       "3389             78661.0  59.966607  30.480724   \n",
       "5351             31475.0  59.987677  30.333652   \n",
       "6883             80986.0  59.956756  30.434947   \n",
       "6914            100000.0  59.827480  30.168223   \n",
       "\n",
       "                                     _id  \n",
       "3386  ObjectId(5e57a1a4089b1f8c93fac038)  \n",
       "3389  ObjectId(5e57a1a9550a1f3209fac030)  \n",
       "5351  ObjectId(5e57bf52eca493834fe53abc)  \n",
       "6883  ObjectId(5e57d681d5f1676340dd8a1b)  \n",
       "6914  ObjectId(5e57d6e4aa71187686dd8a21)  "
      ]
     },
     "execution_count": 15,
     "metadata": {},
     "output_type": "execute_result"
    }
   ],
   "source": [
    "clustering_data.head()"
   ]
  },
  {
   "cell_type": "code",
   "execution_count": 16,
   "metadata": {},
   "outputs": [],
   "source": [
    "x = clustering_data.price_per_sq_meter\n",
    "clustering_data.price_per_sq_meter = (x - x.mean())/x.std()/6\n",
    "x = clustering_data.latitude\n",
    "clustering_data.latitude = (x - x.mean())/x.std()\n",
    "x = clustering_data.longitude\n",
    "clustering_data.longitude = (x - x.mean())/x.std()"
   ]
  },
  {
   "cell_type": "code",
   "execution_count": 17,
   "metadata": {},
   "outputs": [],
   "source": [
    "kmeans = KMeans(n_clusters = 24, init ='k-means++')\n",
    "kmeans.fit(clustering_data[['price_per_sq_meter', 'latitude', 'longitude']]) # Compute k-means clustering.\n",
    "labels = kmeans.predict(clustering_data[['price_per_sq_meter', 'latitude', 'longitude']]) # Labels of each point\n",
    "clustering_data['cluster_label'] = kmeans.fit_predict(clustering_data\\\n",
    "                                                      [['price_per_sq_meter', 'latitude', 'longitude']])\n",
    "centers = kmeans.cluster_centers_ # Coordinates of cluster centers.\n",
    "# clustering_data.head(10)"
   ]
  },
  {
   "cell_type": "code",
   "execution_count": 18,
   "metadata": {},
   "outputs": [],
   "source": [
    "clustering_data = clustering_data[['_id', 'cluster_label']]\n",
    "spb = spb.merge(clustering_data, left_on='_id', right_on='_id')"
   ]
  },
  {
   "cell_type": "code",
   "execution_count": 19,
   "metadata": {
    "scrolled": true
   },
   "outputs": [
    {
     "data": {
      "text/plain": [
       "cluster_label\n",
       "0     662\n",
       "20    536\n",
       "8     474\n",
       "15    453\n",
       "1     448\n",
       "19    427\n",
       "11    426\n",
       "12    401\n",
       "9     395\n",
       "5     394\n",
       "4     384\n",
       "13    379\n",
       "6     349\n",
       "2     322\n",
       "21    320\n",
       "10    245\n",
       "16    233\n",
       "18    230\n",
       "14    228\n",
       "3     223\n",
       "22    212\n",
       "7     200\n",
       "17    156\n",
       "23    140\n",
       "Name: _id, dtype: int64"
      ]
     },
     "execution_count": 19,
     "metadata": {},
     "output_type": "execute_result"
    }
   ],
   "source": [
    "clustering_data.groupby('cluster_label')['_id'].count().sort_values(ascending=False)"
   ]
  },
  {
   "cell_type": "code",
   "execution_count": 20,
   "metadata": {
    "scrolled": false
   },
   "outputs": [
    {
     "name": "stderr",
     "output_type": "stream",
     "text": [
      "Example Desc: 100%|████████████████████████████████████████████████████████████| 8237/8237 [00:00<00:00, 433508.78it/s]\n"
     ]
    }
   ],
   "source": [
    "spb['cluster_label'] = spb['cluster_label'].progress_apply(lambda x: str(x))"
   ]
  },
  {
   "cell_type": "markdown",
   "metadata": {},
   "source": [
    "Выясняем, какие кластеры целиком лежат в пределах 50 км от центра города и работаем с ними"
   ]
  },
  {
   "cell_type": "code",
   "execution_count": 21,
   "metadata": {},
   "outputs": [],
   "source": [
    "dct = spb.groupby('cluster_label')['distance'].min().sort_values(ascending=False)\n",
    "dct = dct.to_dict()"
   ]
  },
  {
   "cell_type": "code",
   "execution_count": 22,
   "metadata": {},
   "outputs": [
    {
     "data": {
      "text/plain": [
       "{'7': 12.729918022686501,\n",
       " '14': 12.312276667473615,\n",
       " '0': 12.247560034194935,\n",
       " '12': 10.784569752905591,\n",
       " '21': 10.393440632072448,\n",
       " '11': 10.393108136657686,\n",
       " '20': 9.579072156716812,\n",
       " '17': 8.844446157883572,\n",
       " '8': 8.028910708278964,\n",
       " '6': 7.321032987917042,\n",
       " '16': 7.297785213516354,\n",
       " '10': 6.996135550419359,\n",
       " '18': 6.939857094240596,\n",
       " '2': 6.702012180818785,\n",
       " '5': 6.543054731865354,\n",
       " '13': 6.435778230261539,\n",
       " '22': 5.048409078847728,\n",
       " '3': 4.764157699105531,\n",
       " '1': 3.4480146859222662,\n",
       " '4': 2.635724836416143,\n",
       " '19': 1.282937670481127,\n",
       " '23': 0.4645686480811279,\n",
       " '15': 0.4403192030907109,\n",
       " '9': 0.4268804921561881}"
      ]
     },
     "execution_count": 22,
     "metadata": {},
     "output_type": "execute_result"
    }
   ],
   "source": [
    "dct"
   ]
  },
  {
   "cell_type": "code",
   "execution_count": 25,
   "metadata": {},
   "outputs": [],
   "source": [
    "lst = spb.cluster_label.value_counts().keys()"
   ]
  },
  {
   "cell_type": "code",
   "execution_count": 26,
   "metadata": {},
   "outputs": [
    {
     "data": {
      "text/plain": [
       "Index(['0', '20', '8', '15', '1', '19', '11', '12', '9', '5', '4', '13', '6',\n",
       "       '2', '21', '10', '16', '18', '14', '3', '22', '7', '17', '23'],\n",
       "      dtype='object')"
      ]
     },
     "execution_count": 26,
     "metadata": {},
     "output_type": "execute_result"
    }
   ],
   "source": [
    "lst"
   ]
  },
  {
   "cell_type": "markdown",
   "metadata": {},
   "source": [
    "Visualizating"
   ]
  },
  {
   "cell_type": "code",
   "execution_count": 27,
   "metadata": {},
   "outputs": [],
   "source": [
    "color_list = px.colors.qualitative.Dark24"
   ]
  },
  {
   "cell_type": "code",
   "execution_count": 28,
   "metadata": {},
   "outputs": [],
   "source": [
    "fig = make_subplots(\n",
    "    rows=1, cols=2, subplot_titles=('Map', 'Box plots'),\n",
    "    specs=[[{\"type\": \"mapbox\"}, {\"type\": \"box\"}]])"
   ]
  },
  {
   "cell_type": "markdown",
   "metadata": {},
   "source": [
    "Это на случай если хочется посмотреть новостройки"
   ]
  },
  {
   "cell_type": "code",
   "execution_count": 29,
   "metadata": {},
   "outputs": [],
   "source": [
    "# data = list()\n",
    "# #set the geo=spatial data\n",
    "# data_old = [go.Scattermapbox(\n",
    "#             lat= spb_old[spb_old[\"cluster_label\"]==lst[i]]['latitude'] ,\n",
    "#             lon= spb_old[spb_old[\"cluster_label\"]==lst[i]]['longitude'],\n",
    "#             customdata = spb_old[spb_old[\"cluster_label\"]==lst[i]]['total_price'],\n",
    "#             mode='markers',\n",
    "#             marker=dict(\n",
    "#                 size= 4,\n",
    "#                 color=color_list[i],\n",
    "#                 opacity = .8,\n",
    "#                 symbol = 'circle'\n",
    "#             ),\n",
    "#     text=list(spb_old[spb_old[\"cluster_label\"]==lst[i]].Number_of_rooms),\n",
    "#           ) for i in range(len(lst))]\n",
    "# data_new = [\n",
    "# go.Scattermapbox(\n",
    "#             lat= spb_new[spb_new[\"cluster_label\"]==lst[i]]['latitude'] ,\n",
    "#             lon= spb_new[spb_new[\"cluster_label\"]==lst[i]]['longitude'],\n",
    "#             customdata = spb_new[spb_new[\"cluster_label\"]==lst[i]]['total_price'],\n",
    "#             mode='markers',\n",
    "#             marker=dict(\n",
    "#                 size= 4,\n",
    "#                 opacity = .8,\n",
    "#                 reversescale = True,\n",
    "#             autocolorscale = False,\n",
    "#             symbol = 'square',\n",
    "#                 color=color_list[i],\n",
    "#             ),\n",
    "#     text=list(spb_new[spb_new[\"cluster_label\"]==lst[i]].Number_of_rooms),\n",
    "#           ) for i in range(len(lst))]\n",
    "# data.extend(data_old)\n",
    "# data.extend(data_new)"
   ]
  },
  {
   "cell_type": "code",
   "execution_count": 30,
   "metadata": {},
   "outputs": [],
   "source": [
    "fig = make_subplots(\n",
    "    rows=1, cols=2, subplot_titles=('Map', 'Box plots'),\n",
    "    specs=[[{\"type\": \"mapbox\"}, {\"type\": \"Box\"}]])"
   ]
  },
  {
   "cell_type": "code",
   "execution_count": 31,
   "metadata": {
    "scrolled": true
   },
   "outputs": [],
   "source": [
    "data = list()\n",
    "#set the geo=spatial data\n",
    "data = [go.Scattermapbox(\n",
    "            lat= spb[spb[\"cluster_label\"]==lst[i]]['latitude'] ,\n",
    "            lon= spb[spb[\"cluster_label\"]==lst[i]]['longitude'],\n",
    "            customdata = spb[spb[\"cluster_label\"]==lst[i]]['price_per_sq_meter'],\n",
    "            mode='markers',\n",
    "            marker=dict(\n",
    "                size= 4,\n",
    "                color=color_list[i],\n",
    "                opacity = .8,\n",
    "                symbol = 'circle'\n",
    "            ),\n",
    "    text=list(spb[spb[\"cluster_label\"]==lst[i]].Number_of_rooms),\n",
    "    name= lst[i]\n",
    "          ) for i in range(len(lst))]\n",
    "for i in data:\n",
    "    fig.add_trace(i, row=1, col=1)\n",
    "data = list()\n",
    "for i in range(len(lst)):\n",
    "    data.append(\n",
    "    go.Box(\n",
    "y = spb.price_per_sq_meter[spb.cluster_label==lst[i]].dropna(),\n",
    "name=lst[i], marker_color = color_list[i]))\n",
    "for i in data:\n",
    "    fig.add_trace(i, row=1, col=2)"
   ]
  },
  {
   "cell_type": "code",
   "execution_count": 32,
   "metadata": {},
   "outputs": [],
   "source": [
    "fig.update_mapboxes(\n",
    "        # here you need the token from Mapbox\n",
    "        accesstoken = 'pk.eyJ1Ijoibmlrc29iOTciLCJhIjoiY2s4cGs3NzRnMDAxODNnbnR0M3QxNHl5NyJ9.Ppwf_rp0v7AP5-VepAWydw',\n",
    "        bearing = 0,\n",
    "        # where we want the map to be centered\n",
    "        center = dict(\n",
    "            lat = 59.939095,\n",
    "            lon = 30.315868\n",
    "        ),\n",
    "        # we want the map to be \"parallel\" to our screen, with no angle\n",
    "        pitch = 0,\n",
    "        # default level of zoom\n",
    "        zoom = 8,\n",
    "        # default map style\n",
    "        style = \"open-street-map\")\n",
    "fig.update_layout(height=650, width=1300, title_text=\"Whole flats price per meter box plot\" );"
   ]
  },
  {
   "cell_type": "code",
   "execution_count": 33,
   "metadata": {},
   "outputs": [
    {
     "data": {
      "text/plain": [
       "'visualization/total_map.html'"
      ]
     },
     "execution_count": 33,
     "metadata": {},
     "output_type": "execute_result"
    }
   ],
   "source": [
    "pyo.plot(fig, filename='visualization/total_map', auto_open=False)"
   ]
  },
  {
   "cell_type": "code",
   "execution_count": 34,
   "metadata": {},
   "outputs": [],
   "source": [
    "studio_flat = spb[spb.Number_of_rooms==0.8]\n",
    "# studio_flat.total_area = studio_flat.total_price/studio_flat.price_per_sq_meter\n",
    "one_flat = spb[spb.Number_of_rooms == 1]\n",
    "two_flat = spb[spb.Number_of_rooms == 2]\n",
    "three_flat = spb[spb.Number_of_rooms == 3]\n",
    "four_flat = spb[spb.Number_of_rooms == 4]\n",
    "five_flat = spb[spb.Number_of_rooms == 5]\n",
    "flat_list = [studio_flat, one_flat, two_flat, three_flat, four_flat, five_flat]"
   ]
  },
  {
   "cell_type": "code",
   "execution_count": 35,
   "metadata": {},
   "outputs": [],
   "source": [
    "new_flt = list()\n",
    "for flt in flat_list:\n",
    "    flt = flt[['total_price', 'total_area', \\\n",
    "               'price_per_sq_meter', 'New_building', 'trade_type', 'cluster_label',\\\n",
    "               'distance', 'latitude', 'longitude']]\\\n",
    "    .dropna()[flt.trade_type=='sale']\n",
    "    flt = flt.loc[flt['total_price'].isin(trimboth(flt.total_price, 0.1))\\\n",
    "                  & flt['total_area'].isin(trimboth(flt.total_area, 0.1))]\n",
    "    new_flt.append(flt)\n",
    "#     print(flt.price_per_sq_meter.mean())\n",
    "studio_flat, one_flat, two_flat, three_flat, four_flat, five_flat = new_flt"
   ]
  },
  {
   "cell_type": "code",
   "execution_count": null,
   "metadata": {},
   "outputs": [],
   "source": []
  },
  {
   "cell_type": "code",
   "execution_count": null,
   "metadata": {},
   "outputs": [],
   "source": []
  },
  {
   "cell_type": "code",
   "execution_count": null,
   "metadata": {},
   "outputs": [],
   "source": []
  },
  {
   "cell_type": "code",
   "execution_count": null,
   "metadata": {},
   "outputs": [],
   "source": []
  },
  {
   "cell_type": "code",
   "execution_count": null,
   "metadata": {},
   "outputs": [],
   "source": []
  },
  {
   "cell_type": "markdown",
   "metadata": {},
   "source": [
    "# Prices_per_square"
   ]
  },
  {
   "cell_type": "markdown",
   "metadata": {},
   "source": [
    "## One room flats price per meter box plot"
   ]
  },
  {
   "cell_type": "code",
   "execution_count": 36,
   "metadata": {},
   "outputs": [],
   "source": [
    "fig = make_subplots(\n",
    "    rows=1, cols=2, subplot_titles=('Map', 'Box plots'),\n",
    "    specs=[[{\"type\": \"mapbox\"}, {\"type\": \"Box\"}]])"
   ]
  },
  {
   "cell_type": "code",
   "execution_count": 37,
   "metadata": {
    "scrolled": true
   },
   "outputs": [],
   "source": [
    "data = list()\n",
    "#set the geo=spatial data\n",
    "data = [go.Scattermapbox(\n",
    "            lat= one_flat[one_flat[\"cluster_label\"]==lst[i]]['latitude'] ,\n",
    "            lon= one_flat[one_flat[\"cluster_label\"]==lst[i]]['longitude'],\n",
    "            customdata = one_flat[one_flat[\"cluster_label\"]==lst[i]]['price_per_sq_meter'],\n",
    "            mode='markers',\n",
    "            marker=dict(\n",
    "                size= 4,\n",
    "                color=color_list[i],\n",
    "                opacity = .8,\n",
    "                symbol = 'circle'\n",
    "            ),\n",
    "    text= list(one_flat[one_flat[\"cluster_label\"]==lst[i]]['price_per_sq_meter']),\n",
    "    name= lst[i]\n",
    "          ) for i in range(len(lst))]\n",
    "for i in data:\n",
    "    fig.add_trace(i, row=1, col=1)\n",
    "data = list()\n",
    "for i in range(len(lst)):\n",
    "    data.append(\n",
    "    go.Box(\n",
    "y = one_flat.price_per_sq_meter[one_flat.cluster_label==lst[i]].dropna(),\n",
    "name=lst[i], marker_color = color_list[i]))\n",
    "for i in data:\n",
    "    fig.add_trace(i, row=1, col=2)"
   ]
  },
  {
   "cell_type": "code",
   "execution_count": 38,
   "metadata": {},
   "outputs": [],
   "source": [
    "fig.update_mapboxes(\n",
    "        # here you need the token from Mapbox\n",
    "        accesstoken = 'pk.eyJ1Ijoibmlrc29iOTciLCJhIjoiY2s4cGs3NzRnMDAxODNnbnR0M3QxNHl5NyJ9.Ppwf_rp0v7AP5-VepAWydw',\n",
    "        bearing = 0,\n",
    "        # where we want the map to be centered\n",
    "        center = dict(\n",
    "            lat = 59.939095,\n",
    "            lon = 30.315868\n",
    "        ),\n",
    "        # we want the map to be \"parallel\" to our screen, with no angle\n",
    "        pitch = 0,\n",
    "        # default level of zoom\n",
    "        zoom = 8,\n",
    "        # default map style\n",
    "        style = \"open-street-map\")\n",
    "fig.update_layout(height=650, width=1300, title_text=\"Whole flats price per meter box plot\" );"
   ]
  },
  {
   "cell_type": "code",
   "execution_count": 39,
   "metadata": {},
   "outputs": [
    {
     "data": {
      "text/plain": [
       "'visualization/one_room_price_per_meter_box_plot.html'"
      ]
     },
     "execution_count": 39,
     "metadata": {},
     "output_type": "execute_result"
    }
   ],
   "source": [
    "pyo.plot(fig, filename='visualization/one_room_price_per_meter_box_plot', auto_open=False)"
   ]
  },
  {
   "cell_type": "markdown",
   "metadata": {},
   "source": [
    "## Two rooms flats price per meter box plot"
   ]
  },
  {
   "cell_type": "code",
   "execution_count": 40,
   "metadata": {},
   "outputs": [],
   "source": [
    "fig = make_subplots(\n",
    "    rows=1, cols=2, subplot_titles=('Map', 'Box plots'),\n",
    "    specs=[[{\"type\": \"mapbox\"}, {\"type\": \"Box\"}]])"
   ]
  },
  {
   "cell_type": "code",
   "execution_count": 41,
   "metadata": {
    "scrolled": true
   },
   "outputs": [],
   "source": [
    "data = list()\n",
    "#set the geo=spatial data\n",
    "data = [go.Scattermapbox(\n",
    "            lat= two_flat[two_flat[\"cluster_label\"]==lst[i]]['latitude'] ,\n",
    "            lon= two_flat[two_flat[\"cluster_label\"]==lst[i]]['longitude'],\n",
    "            customdata = two_flat[two_flat[\"cluster_label\"]==lst[i]]['price_per_sq_meter'],\n",
    "            mode='markers',\n",
    "            marker=dict(\n",
    "                size= 4,\n",
    "                color=color_list[i],\n",
    "                opacity = .8,\n",
    "                symbol = 'circle'\n",
    "            ),\n",
    "    text= list(two_flat[two_flat[\"cluster_label\"]==lst[i]]['price_per_sq_meter']),\n",
    "    name= lst[i]\n",
    "          ) for i in range(len(lst))]\n",
    "for i in data:\n",
    "    fig.add_trace(i, row=1, col=1)\n",
    "data = list()\n",
    "for i in range(len(lst)):\n",
    "    data.append(\n",
    "    go.Box(\n",
    "y = two_flat.price_per_sq_meter[two_flat.cluster_label==lst[i]].dropna(),\n",
    "name=lst[i], marker_color = color_list[i]))\n",
    "for i in data:\n",
    "    fig.add_trace(i, row=1, col=2)"
   ]
  },
  {
   "cell_type": "code",
   "execution_count": 42,
   "metadata": {},
   "outputs": [],
   "source": [
    "fig.update_mapboxes(\n",
    "        # here you need the token from Mapbox\n",
    "        accesstoken = 'pk.eyJ1Ijoibmlrc29iOTciLCJhIjoiY2s4cGs3NzRnMDAxODNnbnR0M3QxNHl5NyJ9.Ppwf_rp0v7AP5-VepAWydw',\n",
    "        bearing = 0,\n",
    "        # where we want the map to be centered\n",
    "        center = dict(\n",
    "            lat = 59.939095,\n",
    "            lon = 30.315868\n",
    "        ),\n",
    "        # we want the map to be \"parallel\" to our screen, with no angle\n",
    "        pitch = 0,\n",
    "        # default level of zoom\n",
    "        zoom = 8,\n",
    "        # default map style\n",
    "        style = \"open-street-map\")\n",
    "fig.update_layout(height=650, width=1300, title_text=\"Whole flats price per meter box plot\" );"
   ]
  },
  {
   "cell_type": "code",
   "execution_count": 43,
   "metadata": {},
   "outputs": [
    {
     "data": {
      "text/plain": [
       "'visualization/two_rooms_price_per_meter_box_plot.html'"
      ]
     },
     "execution_count": 43,
     "metadata": {},
     "output_type": "execute_result"
    }
   ],
   "source": [
    "pyo.plot(fig, filename='visualization/two_rooms_price_per_meter_box_plot', auto_open=False)"
   ]
  },
  {
   "cell_type": "markdown",
   "metadata": {},
   "source": [
    "## Three rooms flats price per meter box plot"
   ]
  },
  {
   "cell_type": "code",
   "execution_count": 44,
   "metadata": {},
   "outputs": [],
   "source": [
    "fig = make_subplots(\n",
    "    rows=1, cols=2, subplot_titles=('Map', 'Box plots'),\n",
    "    specs=[[{\"type\": \"mapbox\"}, {\"type\": \"Box\"}]])"
   ]
  },
  {
   "cell_type": "code",
   "execution_count": 45,
   "metadata": {
    "scrolled": true
   },
   "outputs": [],
   "source": [
    "data = list()\n",
    "#set the geo=spatial data\n",
    "data = [go.Scattermapbox(\n",
    "            lat= three_flat[three_flat[\"cluster_label\"]==lst[i]]['latitude'] ,\n",
    "            lon= three_flat[three_flat[\"cluster_label\"]==lst[i]]['longitude'],\n",
    "            customdata = three_flat[three_flat[\"cluster_label\"]==lst[i]]['price_per_sq_meter'],\n",
    "            mode='markers',\n",
    "            marker=dict(\n",
    "                size= 4,\n",
    "                color=color_list[i],\n",
    "                opacity = .8,\n",
    "                symbol = 'circle'\n",
    "            ),\n",
    "    text= list(three_flat[three_flat[\"cluster_label\"]==lst[i]]['price_per_sq_meter']),\n",
    "    name= lst[i]\n",
    "          ) for i in range(len(lst))]\n",
    "for i in data:\n",
    "    fig.add_trace(i, row=1, col=1)\n",
    "data = list()\n",
    "for i in range(len(lst)):\n",
    "    data.append(\n",
    "    go.Box(\n",
    "y = three_flat.price_per_sq_meter[three_flat.cluster_label==lst[i]].dropna(),\n",
    "name=lst[i], marker_color = color_list[i]))\n",
    "for i in data:\n",
    "    fig.add_trace(i, row=1, col=2)"
   ]
  },
  {
   "cell_type": "code",
   "execution_count": 46,
   "metadata": {},
   "outputs": [],
   "source": [
    "fig.update_mapboxes(\n",
    "        # here you need the token from Mapbox\n",
    "        accesstoken = 'pk.eyJ1Ijoibmlrc29iOTciLCJhIjoiY2s4cGs3NzRnMDAxODNnbnR0M3QxNHl5NyJ9.Ppwf_rp0v7AP5-VepAWydw',\n",
    "        bearing = 0,\n",
    "        # where we want the map to be centered\n",
    "        center = dict(\n",
    "            lat = 59.939095,\n",
    "            lon = 30.315868\n",
    "        ),\n",
    "        # we want the map to be \"parallel\" to our screen, with no angle\n",
    "        pitch = 0,\n",
    "        # default level of zoom\n",
    "        zoom = 8,\n",
    "        # default map style\n",
    "        style = \"open-street-map\")\n",
    "fig.update_layout(height=650, width=1300, title_text=\"Whole flats price per meter box plot\" );"
   ]
  },
  {
   "cell_type": "code",
   "execution_count": 47,
   "metadata": {},
   "outputs": [
    {
     "data": {
      "text/plain": [
       "'visualization/three_rooms_price_per_meter_box_plot.html'"
      ]
     },
     "execution_count": 47,
     "metadata": {},
     "output_type": "execute_result"
    }
   ],
   "source": [
    "pyo.plot(fig, filename='visualization/three_rooms_price_per_meter_box_plot', auto_open=False)"
   ]
  },
  {
   "cell_type": "markdown",
   "metadata": {},
   "source": [
    "## Four rooms flats price per meter box plot"
   ]
  },
  {
   "cell_type": "code",
   "execution_count": 48,
   "metadata": {},
   "outputs": [],
   "source": [
    "fig = make_subplots(\n",
    "    rows=1, cols=2, subplot_titles=('Map', 'Box plots'),\n",
    "    specs=[[{\"type\": \"mapbox\"}, {\"type\": \"Box\"}]])"
   ]
  },
  {
   "cell_type": "code",
   "execution_count": 49,
   "metadata": {
    "scrolled": true
   },
   "outputs": [],
   "source": [
    "data = list()\n",
    "#set the geo=spatial data\n",
    "data = [go.Scattermapbox(\n",
    "            lat= four_flat[four_flat[\"cluster_label\"]==lst[i]]['latitude'] ,\n",
    "            lon= four_flat[four_flat[\"cluster_label\"]==lst[i]]['longitude'],\n",
    "            customdata = four_flat[four_flat[\"cluster_label\"]==lst[i]]['price_per_sq_meter'],\n",
    "            mode='markers',\n",
    "            marker=dict(\n",
    "                size= 4,\n",
    "                color=color_list[i],\n",
    "                opacity = .8,\n",
    "                symbol = 'circle'\n",
    "            ),\n",
    "    text= list(four_flat[four_flat[\"cluster_label\"]==lst[i]]['price_per_sq_meter']),\n",
    "    name= lst[i]\n",
    "          ) for i in range(len(lst))]\n",
    "for i in data:\n",
    "    fig.add_trace(i, row=1, col=1)\n",
    "data = list()\n",
    "for i in range(len(lst)):\n",
    "    data.append(\n",
    "    go.Box(\n",
    "y = four_flat.price_per_sq_meter[four_flat.cluster_label==lst[i]].dropna(),\n",
    "name=lst[i], marker_color = color_list[i]))\n",
    "for i in data:\n",
    "    fig.add_trace(i, row=1, col=2)"
   ]
  },
  {
   "cell_type": "code",
   "execution_count": 50,
   "metadata": {},
   "outputs": [],
   "source": [
    "fig.update_mapboxes(\n",
    "        # here you need the token from Mapbox\n",
    "        accesstoken = 'pk.eyJ1Ijoibmlrc29iOTciLCJhIjoiY2s4cGs3NzRnMDAxODNnbnR0M3QxNHl5NyJ9.Ppwf_rp0v7AP5-VepAWydw',\n",
    "        bearing = 0,\n",
    "        # where we want the map to be centered\n",
    "        center = dict(\n",
    "            lat = 59.939095,\n",
    "            lon = 30.315868\n",
    "        ),\n",
    "        # we want the map to be \"parallel\" to our screen, with no angle\n",
    "        pitch = 0,\n",
    "        # default level of zoom\n",
    "        zoom = 8,\n",
    "        # default map style\n",
    "        style = \"open-street-map\")\n",
    "fig.update_layout(height=650, width=1300, title_text=\"Whole flats price per meter box plot\" );"
   ]
  },
  {
   "cell_type": "code",
   "execution_count": 51,
   "metadata": {},
   "outputs": [
    {
     "data": {
      "text/plain": [
       "'visualization/four_rooms_price_per_meter_box_plot.html'"
      ]
     },
     "execution_count": 51,
     "metadata": {},
     "output_type": "execute_result"
    }
   ],
   "source": [
    "pyo.plot(fig, filename='visualization/four_rooms_price_per_meter_box_plot', auto_open=False)"
   ]
  },
  {
   "cell_type": "markdown",
   "metadata": {},
   "source": [
    "## Five rooms flats price per meter box plot"
   ]
  },
  {
   "cell_type": "code",
   "execution_count": 52,
   "metadata": {},
   "outputs": [],
   "source": [
    "fig = make_subplots(\n",
    "    rows=1, cols=2, subplot_titles=('Map', 'Box plots'),\n",
    "    specs=[[{\"type\": \"mapbox\"}, {\"type\": \"Box\"}]])"
   ]
  },
  {
   "cell_type": "code",
   "execution_count": 53,
   "metadata": {
    "scrolled": true
   },
   "outputs": [],
   "source": [
    "data = list()\n",
    "#set the geo=spatial data\n",
    "data = [go.Scattermapbox(\n",
    "            lat= five_flat[five_flat[\"cluster_label\"]==lst[i]]['latitude'] ,\n",
    "            lon= five_flat[five_flat[\"cluster_label\"]==lst[i]]['longitude'],\n",
    "            customdata = five_flat[five_flat[\"cluster_label\"]==lst[i]]['price_per_sq_meter'],\n",
    "            mode='markers',\n",
    "            marker=dict(\n",
    "                size= 4,\n",
    "                color=color_list[i],\n",
    "                opacity = .8,\n",
    "                symbol = 'circle'\n",
    "            ),\n",
    "    text= list(five_flat[five_flat[\"cluster_label\"]==lst[i]]['price_per_sq_meter']),\n",
    "    name= lst[i]\n",
    "          ) for i in range(len(lst))]\n",
    "for i in data:\n",
    "    fig.add_trace(i, row=1, col=1)\n",
    "data = list()\n",
    "for i in range(len(lst)):\n",
    "    data.append(\n",
    "    go.Box(\n",
    "y = five_flat.price_per_sq_meter[five_flat.cluster_label==lst[i]].dropna(),\n",
    "name=lst[i], marker_color = color_list[i]))\n",
    "for i in data:\n",
    "    fig.add_trace(i, row=1, col=2)"
   ]
  },
  {
   "cell_type": "code",
   "execution_count": 54,
   "metadata": {},
   "outputs": [],
   "source": [
    "fig.update_mapboxes(\n",
    "        # here you need the token from Mapbox\n",
    "        accesstoken = 'pk.eyJ1Ijoibmlrc29iOTciLCJhIjoiY2s4cGs3NzRnMDAxODNnbnR0M3QxNHl5NyJ9.Ppwf_rp0v7AP5-VepAWydw',\n",
    "        bearing = 0,\n",
    "        # where we want the map to be centered\n",
    "        center = dict(\n",
    "            lat = 59.939095,\n",
    "            lon = 30.315868\n",
    "        ),\n",
    "        # we want the map to be \"parallel\" to our screen, with no angle\n",
    "        pitch = 0,\n",
    "        # default level of zoom\n",
    "        zoom = 8,\n",
    "        # default map style\n",
    "        style = \"open-street-map\")\n",
    "fig.update_layout(height=650, width=1300, title_text=\"Whole flats price per meter box plot\" );"
   ]
  },
  {
   "cell_type": "code",
   "execution_count": 55,
   "metadata": {},
   "outputs": [
    {
     "data": {
      "text/plain": [
       "'visualization/five_rooms_price_per_meter_box_plot.html'"
      ]
     },
     "execution_count": 55,
     "metadata": {},
     "output_type": "execute_result"
    }
   ],
   "source": [
    "pyo.plot(fig, filename='visualization/five_rooms_price_per_meter_box_plot', auto_open=False)"
   ]
  },
  {
   "cell_type": "code",
   "execution_count": 56,
   "metadata": {},
   "outputs": [
    {
     "data": {
      "application/vnd.plotly.v1+json": {
       "config": {
        "plotlyServerURL": "https://plot.ly"
       },
       "data": [
        {
         "alignmentgroup": "True",
         "bingroup": "x",
         "hoverlabel": {
          "namelength": 0
         },
         "hovertemplate": "New_building=1.0<br>price_per_sq_meter=%{x}<br>count=%{y}",
         "legendgroup": "1.0",
         "marker": {
          "color": "#636efa",
          "opacity": 0.8
         },
         "name": "1.0",
         "nbinsx": 20,
         "offsetgroup": "1.0",
         "orientation": "v",
         "showlegend": true,
         "type": "histogram",
         "x": [
          142200,
          142200,
          143100,
          143100,
          112200,
          113475,
          116450,
          120700,
          110925,
          110075,
          120700,
          120700,
          144900,
          143100,
          143100,
          137250,
          144900,
          144900,
          137250,
          143100,
          112200,
          115175,
          116450,
          120700,
          120700,
          120700,
          110925,
          110075,
          143100,
          143100,
          112200,
          115175,
          116450,
          112625,
          120700,
          120700,
          120700,
          111775,
          144900,
          143100,
          143100,
          144900,
          137250,
          144900,
          137250,
          143100,
          116955,
          117300,
          112200,
          115175,
          120700,
          120700,
          120700,
          112625,
          111775,
          143100,
          143100,
          115175,
          112200,
          117300,
          112625,
          120700,
          120700,
          120700,
          111775,
          144900,
          143100,
          143100,
          144900,
          137250,
          144900,
          137250,
          143100,
          116955,
          117300,
          112200,
          115175,
          120700,
          112625,
          120700,
          120700,
          111775,
          118670,
          116297,
          118623,
          112200,
          115175,
          117300,
          112625,
          120700,
          120700,
          120700,
          111775,
          124865,
          126250,
          118623,
          118785
         ],
         "xaxis": "x",
         "yaxis": "y"
        },
        {
         "alignmentgroup": "True",
         "bingroup": "x",
         "hoverlabel": {
          "namelength": 0
         },
         "hovertemplate": "New_building=0.0<br>price_per_sq_meter=%{x}<br>count=%{y}",
         "legendgroup": "0.0",
         "marker": {
          "color": "#EF553B",
          "opacity": 0.8
         },
         "name": "0.0",
         "nbinsx": 20,
         "offsetgroup": "0.0",
         "orientation": "v",
         "showlegend": true,
         "type": "histogram",
         "x": [
          117568,
          117568,
          117568,
          117568,
          99732,
          148485,
          117568,
          148485
         ],
         "xaxis": "x",
         "yaxis": "y"
        }
       ],
       "layout": {
        "barmode": "relative",
        "legend": {
         "title": {
          "text": "New_building"
         },
         "tracegroupgap": 0
        },
        "margin": {
         "t": 60
        },
        "template": {
         "data": {
          "bar": [
           {
            "error_x": {
             "color": "#2a3f5f"
            },
            "error_y": {
             "color": "#2a3f5f"
            },
            "marker": {
             "line": {
              "color": "#E5ECF6",
              "width": 0.5
             }
            },
            "type": "bar"
           }
          ],
          "barpolar": [
           {
            "marker": {
             "line": {
              "color": "#E5ECF6",
              "width": 0.5
             }
            },
            "type": "barpolar"
           }
          ],
          "carpet": [
           {
            "aaxis": {
             "endlinecolor": "#2a3f5f",
             "gridcolor": "white",
             "linecolor": "white",
             "minorgridcolor": "white",
             "startlinecolor": "#2a3f5f"
            },
            "baxis": {
             "endlinecolor": "#2a3f5f",
             "gridcolor": "white",
             "linecolor": "white",
             "minorgridcolor": "white",
             "startlinecolor": "#2a3f5f"
            },
            "type": "carpet"
           }
          ],
          "choropleth": [
           {
            "colorbar": {
             "outlinewidth": 0,
             "ticks": ""
            },
            "type": "choropleth"
           }
          ],
          "contour": [
           {
            "colorbar": {
             "outlinewidth": 0,
             "ticks": ""
            },
            "colorscale": [
             [
              0,
              "#0d0887"
             ],
             [
              0.1111111111111111,
              "#46039f"
             ],
             [
              0.2222222222222222,
              "#7201a8"
             ],
             [
              0.3333333333333333,
              "#9c179e"
             ],
             [
              0.4444444444444444,
              "#bd3786"
             ],
             [
              0.5555555555555556,
              "#d8576b"
             ],
             [
              0.6666666666666666,
              "#ed7953"
             ],
             [
              0.7777777777777778,
              "#fb9f3a"
             ],
             [
              0.8888888888888888,
              "#fdca26"
             ],
             [
              1,
              "#f0f921"
             ]
            ],
            "type": "contour"
           }
          ],
          "contourcarpet": [
           {
            "colorbar": {
             "outlinewidth": 0,
             "ticks": ""
            },
            "type": "contourcarpet"
           }
          ],
          "heatmap": [
           {
            "colorbar": {
             "outlinewidth": 0,
             "ticks": ""
            },
            "colorscale": [
             [
              0,
              "#0d0887"
             ],
             [
              0.1111111111111111,
              "#46039f"
             ],
             [
              0.2222222222222222,
              "#7201a8"
             ],
             [
              0.3333333333333333,
              "#9c179e"
             ],
             [
              0.4444444444444444,
              "#bd3786"
             ],
             [
              0.5555555555555556,
              "#d8576b"
             ],
             [
              0.6666666666666666,
              "#ed7953"
             ],
             [
              0.7777777777777778,
              "#fb9f3a"
             ],
             [
              0.8888888888888888,
              "#fdca26"
             ],
             [
              1,
              "#f0f921"
             ]
            ],
            "type": "heatmap"
           }
          ],
          "heatmapgl": [
           {
            "colorbar": {
             "outlinewidth": 0,
             "ticks": ""
            },
            "colorscale": [
             [
              0,
              "#0d0887"
             ],
             [
              0.1111111111111111,
              "#46039f"
             ],
             [
              0.2222222222222222,
              "#7201a8"
             ],
             [
              0.3333333333333333,
              "#9c179e"
             ],
             [
              0.4444444444444444,
              "#bd3786"
             ],
             [
              0.5555555555555556,
              "#d8576b"
             ],
             [
              0.6666666666666666,
              "#ed7953"
             ],
             [
              0.7777777777777778,
              "#fb9f3a"
             ],
             [
              0.8888888888888888,
              "#fdca26"
             ],
             [
              1,
              "#f0f921"
             ]
            ],
            "type": "heatmapgl"
           }
          ],
          "histogram": [
           {
            "marker": {
             "colorbar": {
              "outlinewidth": 0,
              "ticks": ""
             }
            },
            "type": "histogram"
           }
          ],
          "histogram2d": [
           {
            "colorbar": {
             "outlinewidth": 0,
             "ticks": ""
            },
            "colorscale": [
             [
              0,
              "#0d0887"
             ],
             [
              0.1111111111111111,
              "#46039f"
             ],
             [
              0.2222222222222222,
              "#7201a8"
             ],
             [
              0.3333333333333333,
              "#9c179e"
             ],
             [
              0.4444444444444444,
              "#bd3786"
             ],
             [
              0.5555555555555556,
              "#d8576b"
             ],
             [
              0.6666666666666666,
              "#ed7953"
             ],
             [
              0.7777777777777778,
              "#fb9f3a"
             ],
             [
              0.8888888888888888,
              "#fdca26"
             ],
             [
              1,
              "#f0f921"
             ]
            ],
            "type": "histogram2d"
           }
          ],
          "histogram2dcontour": [
           {
            "colorbar": {
             "outlinewidth": 0,
             "ticks": ""
            },
            "colorscale": [
             [
              0,
              "#0d0887"
             ],
             [
              0.1111111111111111,
              "#46039f"
             ],
             [
              0.2222222222222222,
              "#7201a8"
             ],
             [
              0.3333333333333333,
              "#9c179e"
             ],
             [
              0.4444444444444444,
              "#bd3786"
             ],
             [
              0.5555555555555556,
              "#d8576b"
             ],
             [
              0.6666666666666666,
              "#ed7953"
             ],
             [
              0.7777777777777778,
              "#fb9f3a"
             ],
             [
              0.8888888888888888,
              "#fdca26"
             ],
             [
              1,
              "#f0f921"
             ]
            ],
            "type": "histogram2dcontour"
           }
          ],
          "mesh3d": [
           {
            "colorbar": {
             "outlinewidth": 0,
             "ticks": ""
            },
            "type": "mesh3d"
           }
          ],
          "parcoords": [
           {
            "line": {
             "colorbar": {
              "outlinewidth": 0,
              "ticks": ""
             }
            },
            "type": "parcoords"
           }
          ],
          "pie": [
           {
            "automargin": true,
            "type": "pie"
           }
          ],
          "scatter": [
           {
            "marker": {
             "colorbar": {
              "outlinewidth": 0,
              "ticks": ""
             }
            },
            "type": "scatter"
           }
          ],
          "scatter3d": [
           {
            "line": {
             "colorbar": {
              "outlinewidth": 0,
              "ticks": ""
             }
            },
            "marker": {
             "colorbar": {
              "outlinewidth": 0,
              "ticks": ""
             }
            },
            "type": "scatter3d"
           }
          ],
          "scattercarpet": [
           {
            "marker": {
             "colorbar": {
              "outlinewidth": 0,
              "ticks": ""
             }
            },
            "type": "scattercarpet"
           }
          ],
          "scattergeo": [
           {
            "marker": {
             "colorbar": {
              "outlinewidth": 0,
              "ticks": ""
             }
            },
            "type": "scattergeo"
           }
          ],
          "scattergl": [
           {
            "marker": {
             "colorbar": {
              "outlinewidth": 0,
              "ticks": ""
             }
            },
            "type": "scattergl"
           }
          ],
          "scattermapbox": [
           {
            "marker": {
             "colorbar": {
              "outlinewidth": 0,
              "ticks": ""
             }
            },
            "type": "scattermapbox"
           }
          ],
          "scatterpolar": [
           {
            "marker": {
             "colorbar": {
              "outlinewidth": 0,
              "ticks": ""
             }
            },
            "type": "scatterpolar"
           }
          ],
          "scatterpolargl": [
           {
            "marker": {
             "colorbar": {
              "outlinewidth": 0,
              "ticks": ""
             }
            },
            "type": "scatterpolargl"
           }
          ],
          "scatterternary": [
           {
            "marker": {
             "colorbar": {
              "outlinewidth": 0,
              "ticks": ""
             }
            },
            "type": "scatterternary"
           }
          ],
          "surface": [
           {
            "colorbar": {
             "outlinewidth": 0,
             "ticks": ""
            },
            "colorscale": [
             [
              0,
              "#0d0887"
             ],
             [
              0.1111111111111111,
              "#46039f"
             ],
             [
              0.2222222222222222,
              "#7201a8"
             ],
             [
              0.3333333333333333,
              "#9c179e"
             ],
             [
              0.4444444444444444,
              "#bd3786"
             ],
             [
              0.5555555555555556,
              "#d8576b"
             ],
             [
              0.6666666666666666,
              "#ed7953"
             ],
             [
              0.7777777777777778,
              "#fb9f3a"
             ],
             [
              0.8888888888888888,
              "#fdca26"
             ],
             [
              1,
              "#f0f921"
             ]
            ],
            "type": "surface"
           }
          ],
          "table": [
           {
            "cells": {
             "fill": {
              "color": "#EBF0F8"
             },
             "line": {
              "color": "white"
             }
            },
            "header": {
             "fill": {
              "color": "#C8D4E3"
             },
             "line": {
              "color": "white"
             }
            },
            "type": "table"
           }
          ]
         },
         "layout": {
          "annotationdefaults": {
           "arrowcolor": "#2a3f5f",
           "arrowhead": 0,
           "arrowwidth": 1
          },
          "coloraxis": {
           "colorbar": {
            "outlinewidth": 0,
            "ticks": ""
           }
          },
          "colorscale": {
           "diverging": [
            [
             0,
             "#8e0152"
            ],
            [
             0.1,
             "#c51b7d"
            ],
            [
             0.2,
             "#de77ae"
            ],
            [
             0.3,
             "#f1b6da"
            ],
            [
             0.4,
             "#fde0ef"
            ],
            [
             0.5,
             "#f7f7f7"
            ],
            [
             0.6,
             "#e6f5d0"
            ],
            [
             0.7,
             "#b8e186"
            ],
            [
             0.8,
             "#7fbc41"
            ],
            [
             0.9,
             "#4d9221"
            ],
            [
             1,
             "#276419"
            ]
           ],
           "sequential": [
            [
             0,
             "#0d0887"
            ],
            [
             0.1111111111111111,
             "#46039f"
            ],
            [
             0.2222222222222222,
             "#7201a8"
            ],
            [
             0.3333333333333333,
             "#9c179e"
            ],
            [
             0.4444444444444444,
             "#bd3786"
            ],
            [
             0.5555555555555556,
             "#d8576b"
            ],
            [
             0.6666666666666666,
             "#ed7953"
            ],
            [
             0.7777777777777778,
             "#fb9f3a"
            ],
            [
             0.8888888888888888,
             "#fdca26"
            ],
            [
             1,
             "#f0f921"
            ]
           ],
           "sequentialminus": [
            [
             0,
             "#0d0887"
            ],
            [
             0.1111111111111111,
             "#46039f"
            ],
            [
             0.2222222222222222,
             "#7201a8"
            ],
            [
             0.3333333333333333,
             "#9c179e"
            ],
            [
             0.4444444444444444,
             "#bd3786"
            ],
            [
             0.5555555555555556,
             "#d8576b"
            ],
            [
             0.6666666666666666,
             "#ed7953"
            ],
            [
             0.7777777777777778,
             "#fb9f3a"
            ],
            [
             0.8888888888888888,
             "#fdca26"
            ],
            [
             1,
             "#f0f921"
            ]
           ]
          },
          "colorway": [
           "#636efa",
           "#EF553B",
           "#00cc96",
           "#ab63fa",
           "#FFA15A",
           "#19d3f3",
           "#FF6692",
           "#B6E880",
           "#FF97FF",
           "#FECB52"
          ],
          "font": {
           "color": "#2a3f5f"
          },
          "geo": {
           "bgcolor": "white",
           "lakecolor": "white",
           "landcolor": "#E5ECF6",
           "showlakes": true,
           "showland": true,
           "subunitcolor": "white"
          },
          "hoverlabel": {
           "align": "left"
          },
          "hovermode": "closest",
          "mapbox": {
           "style": "light"
          },
          "paper_bgcolor": "white",
          "plot_bgcolor": "#E5ECF6",
          "polar": {
           "angularaxis": {
            "gridcolor": "white",
            "linecolor": "white",
            "ticks": ""
           },
           "bgcolor": "#E5ECF6",
           "radialaxis": {
            "gridcolor": "white",
            "linecolor": "white",
            "ticks": ""
           }
          },
          "scene": {
           "xaxis": {
            "backgroundcolor": "#E5ECF6",
            "gridcolor": "white",
            "gridwidth": 2,
            "linecolor": "white",
            "showbackground": true,
            "ticks": "",
            "zerolinecolor": "white"
           },
           "yaxis": {
            "backgroundcolor": "#E5ECF6",
            "gridcolor": "white",
            "gridwidth": 2,
            "linecolor": "white",
            "showbackground": true,
            "ticks": "",
            "zerolinecolor": "white"
           },
           "zaxis": {
            "backgroundcolor": "#E5ECF6",
            "gridcolor": "white",
            "gridwidth": 2,
            "linecolor": "white",
            "showbackground": true,
            "ticks": "",
            "zerolinecolor": "white"
           }
          },
          "shapedefaults": {
           "line": {
            "color": "#2a3f5f"
           }
          },
          "ternary": {
           "aaxis": {
            "gridcolor": "white",
            "linecolor": "white",
            "ticks": ""
           },
           "baxis": {
            "gridcolor": "white",
            "linecolor": "white",
            "ticks": ""
           },
           "bgcolor": "#E5ECF6",
           "caxis": {
            "gridcolor": "white",
            "linecolor": "white",
            "ticks": ""
           }
          },
          "title": {
           "x": 0.05
          },
          "xaxis": {
           "automargin": true,
           "gridcolor": "white",
           "linecolor": "white",
           "ticks": "",
           "title": {
            "standoff": 15
           },
           "zerolinecolor": "white",
           "zerolinewidth": 2
          },
          "yaxis": {
           "automargin": true,
           "gridcolor": "white",
           "linecolor": "white",
           "ticks": "",
           "title": {
            "standoff": 15
           },
           "zerolinecolor": "white",
           "zerolinewidth": 2
          }
         }
        },
        "xaxis": {
         "anchor": "y",
         "domain": [
          0,
          1
         ],
         "title": {
          "text": "price_per_sq_meter"
         }
        },
        "yaxis": {
         "anchor": "x",
         "domain": [
          0,
          1
         ],
         "title": {
          "text": "count"
         }
        }
       }
      },
      "text/html": [
       "<div>\n",
       "        \n",
       "        \n",
       "            <div id=\"4f0e6382-b1c7-4621-ac57-ec074d488702\" class=\"plotly-graph-div\" style=\"height:525px; width:100%;\"></div>\n",
       "            <script type=\"text/javascript\">\n",
       "                require([\"plotly\"], function(Plotly) {\n",
       "                    window.PLOTLYENV=window.PLOTLYENV || {};\n",
       "                    \n",
       "                if (document.getElementById(\"4f0e6382-b1c7-4621-ac57-ec074d488702\")) {\n",
       "                    Plotly.newPlot(\n",
       "                        '4f0e6382-b1c7-4621-ac57-ec074d488702',\n",
       "                        [{\"alignmentgroup\": \"True\", \"bingroup\": \"x\", \"hoverlabel\": {\"namelength\": 0}, \"hovertemplate\": \"New_building=1.0<br>price_per_sq_meter=%{x}<br>count=%{y}\", \"legendgroup\": \"1.0\", \"marker\": {\"color\": \"#636efa\", \"opacity\": 0.8}, \"name\": \"1.0\", \"nbinsx\": 20, \"offsetgroup\": \"1.0\", \"orientation\": \"v\", \"showlegend\": true, \"type\": \"histogram\", \"x\": [142200.0, 142200.0, 143100.0, 143100.0, 112200.0, 113475.0, 116450.0, 120700.0, 110925.0, 110075.0, 120700.0, 120700.0, 144900.0, 143100.0, 143100.0, 137250.0, 144900.0, 144900.0, 137250.0, 143100.0, 112200.0, 115175.0, 116450.0, 120700.0, 120700.0, 120700.0, 110925.0, 110075.0, 143100.0, 143100.0, 112200.0, 115175.0, 116450.0, 112625.0, 120700.0, 120700.0, 120700.0, 111775.0, 144900.0, 143100.0, 143100.0, 144900.0, 137250.0, 144900.0, 137250.0, 143100.0, 116955.0, 117300.0, 112200.0, 115175.0, 120700.0, 120700.0, 120700.0, 112625.0, 111775.0, 143100.0, 143100.0, 115175.0, 112200.0, 117300.0, 112625.0, 120700.0, 120700.0, 120700.0, 111775.0, 144900.0, 143100.0, 143100.0, 144900.0, 137250.0, 144900.0, 137250.0, 143100.0, 116955.0, 117300.0, 112200.0, 115175.0, 120700.0, 112625.0, 120700.0, 120700.0, 111775.0, 118670.0, 116297.0, 118623.0, 112200.0, 115175.0, 117300.0, 112625.0, 120700.0, 120700.0, 120700.0, 111775.0, 124865.0, 126250.0, 118623.0, 118785.0], \"xaxis\": \"x\", \"yaxis\": \"y\"}, {\"alignmentgroup\": \"True\", \"bingroup\": \"x\", \"hoverlabel\": {\"namelength\": 0}, \"hovertemplate\": \"New_building=0.0<br>price_per_sq_meter=%{x}<br>count=%{y}\", \"legendgroup\": \"0.0\", \"marker\": {\"color\": \"#EF553B\", \"opacity\": 0.8}, \"name\": \"0.0\", \"nbinsx\": 20, \"offsetgroup\": \"0.0\", \"orientation\": \"v\", \"showlegend\": true, \"type\": \"histogram\", \"x\": [117568.0, 117568.0, 117568.0, 117568.0, 99732.0, 148485.0, 117568.0, 148485.0], \"xaxis\": \"x\", \"yaxis\": \"y\"}],\n",
       "                        {\"barmode\": \"relative\", \"legend\": {\"title\": {\"text\": \"New_building\"}, \"tracegroupgap\": 0}, \"margin\": {\"t\": 60}, \"template\": {\"data\": {\"bar\": [{\"error_x\": {\"color\": \"#2a3f5f\"}, \"error_y\": {\"color\": \"#2a3f5f\"}, \"marker\": {\"line\": {\"color\": \"#E5ECF6\", \"width\": 0.5}}, \"type\": \"bar\"}], \"barpolar\": [{\"marker\": {\"line\": {\"color\": \"#E5ECF6\", \"width\": 0.5}}, \"type\": \"barpolar\"}], \"carpet\": [{\"aaxis\": {\"endlinecolor\": \"#2a3f5f\", \"gridcolor\": \"white\", \"linecolor\": \"white\", \"minorgridcolor\": \"white\", \"startlinecolor\": \"#2a3f5f\"}, \"baxis\": {\"endlinecolor\": \"#2a3f5f\", \"gridcolor\": \"white\", \"linecolor\": \"white\", \"minorgridcolor\": \"white\", \"startlinecolor\": \"#2a3f5f\"}, \"type\": \"carpet\"}], \"choropleth\": [{\"colorbar\": {\"outlinewidth\": 0, \"ticks\": \"\"}, \"type\": \"choropleth\"}], \"contour\": [{\"colorbar\": {\"outlinewidth\": 0, \"ticks\": \"\"}, \"colorscale\": [[0.0, \"#0d0887\"], [0.1111111111111111, \"#46039f\"], [0.2222222222222222, \"#7201a8\"], [0.3333333333333333, \"#9c179e\"], [0.4444444444444444, \"#bd3786\"], [0.5555555555555556, \"#d8576b\"], [0.6666666666666666, \"#ed7953\"], [0.7777777777777778, \"#fb9f3a\"], [0.8888888888888888, \"#fdca26\"], [1.0, \"#f0f921\"]], \"type\": \"contour\"}], \"contourcarpet\": [{\"colorbar\": {\"outlinewidth\": 0, \"ticks\": \"\"}, \"type\": \"contourcarpet\"}], \"heatmap\": [{\"colorbar\": {\"outlinewidth\": 0, \"ticks\": \"\"}, \"colorscale\": [[0.0, \"#0d0887\"], [0.1111111111111111, \"#46039f\"], [0.2222222222222222, \"#7201a8\"], [0.3333333333333333, \"#9c179e\"], [0.4444444444444444, \"#bd3786\"], [0.5555555555555556, \"#d8576b\"], [0.6666666666666666, \"#ed7953\"], [0.7777777777777778, \"#fb9f3a\"], [0.8888888888888888, \"#fdca26\"], [1.0, \"#f0f921\"]], \"type\": \"heatmap\"}], \"heatmapgl\": [{\"colorbar\": {\"outlinewidth\": 0, \"ticks\": \"\"}, \"colorscale\": [[0.0, \"#0d0887\"], [0.1111111111111111, \"#46039f\"], [0.2222222222222222, \"#7201a8\"], [0.3333333333333333, \"#9c179e\"], [0.4444444444444444, \"#bd3786\"], [0.5555555555555556, \"#d8576b\"], [0.6666666666666666, \"#ed7953\"], [0.7777777777777778, \"#fb9f3a\"], [0.8888888888888888, \"#fdca26\"], [1.0, \"#f0f921\"]], \"type\": \"heatmapgl\"}], \"histogram\": [{\"marker\": {\"colorbar\": {\"outlinewidth\": 0, \"ticks\": \"\"}}, \"type\": \"histogram\"}], \"histogram2d\": [{\"colorbar\": {\"outlinewidth\": 0, \"ticks\": \"\"}, \"colorscale\": [[0.0, \"#0d0887\"], [0.1111111111111111, \"#46039f\"], [0.2222222222222222, \"#7201a8\"], [0.3333333333333333, \"#9c179e\"], [0.4444444444444444, \"#bd3786\"], [0.5555555555555556, \"#d8576b\"], [0.6666666666666666, \"#ed7953\"], [0.7777777777777778, \"#fb9f3a\"], [0.8888888888888888, \"#fdca26\"], [1.0, \"#f0f921\"]], \"type\": \"histogram2d\"}], \"histogram2dcontour\": [{\"colorbar\": {\"outlinewidth\": 0, \"ticks\": \"\"}, \"colorscale\": [[0.0, \"#0d0887\"], [0.1111111111111111, \"#46039f\"], [0.2222222222222222, \"#7201a8\"], [0.3333333333333333, \"#9c179e\"], [0.4444444444444444, \"#bd3786\"], [0.5555555555555556, \"#d8576b\"], [0.6666666666666666, \"#ed7953\"], [0.7777777777777778, \"#fb9f3a\"], [0.8888888888888888, \"#fdca26\"], [1.0, \"#f0f921\"]], \"type\": \"histogram2dcontour\"}], \"mesh3d\": [{\"colorbar\": {\"outlinewidth\": 0, \"ticks\": \"\"}, \"type\": \"mesh3d\"}], \"parcoords\": [{\"line\": {\"colorbar\": {\"outlinewidth\": 0, \"ticks\": \"\"}}, \"type\": \"parcoords\"}], \"pie\": [{\"automargin\": true, \"type\": \"pie\"}], \"scatter\": [{\"marker\": {\"colorbar\": {\"outlinewidth\": 0, \"ticks\": \"\"}}, \"type\": \"scatter\"}], \"scatter3d\": [{\"line\": {\"colorbar\": {\"outlinewidth\": 0, \"ticks\": \"\"}}, \"marker\": {\"colorbar\": {\"outlinewidth\": 0, \"ticks\": \"\"}}, \"type\": \"scatter3d\"}], \"scattercarpet\": [{\"marker\": {\"colorbar\": {\"outlinewidth\": 0, \"ticks\": \"\"}}, \"type\": \"scattercarpet\"}], \"scattergeo\": [{\"marker\": {\"colorbar\": {\"outlinewidth\": 0, \"ticks\": \"\"}}, \"type\": \"scattergeo\"}], \"scattergl\": [{\"marker\": {\"colorbar\": {\"outlinewidth\": 0, \"ticks\": \"\"}}, \"type\": \"scattergl\"}], \"scattermapbox\": [{\"marker\": {\"colorbar\": {\"outlinewidth\": 0, \"ticks\": \"\"}}, \"type\": \"scattermapbox\"}], \"scatterpolar\": [{\"marker\": {\"colorbar\": {\"outlinewidth\": 0, \"ticks\": \"\"}}, \"type\": \"scatterpolar\"}], \"scatterpolargl\": [{\"marker\": {\"colorbar\": {\"outlinewidth\": 0, \"ticks\": \"\"}}, \"type\": \"scatterpolargl\"}], \"scatterternary\": [{\"marker\": {\"colorbar\": {\"outlinewidth\": 0, \"ticks\": \"\"}}, \"type\": \"scatterternary\"}], \"surface\": [{\"colorbar\": {\"outlinewidth\": 0, \"ticks\": \"\"}, \"colorscale\": [[0.0, \"#0d0887\"], [0.1111111111111111, \"#46039f\"], [0.2222222222222222, \"#7201a8\"], [0.3333333333333333, \"#9c179e\"], [0.4444444444444444, \"#bd3786\"], [0.5555555555555556, \"#d8576b\"], [0.6666666666666666, \"#ed7953\"], [0.7777777777777778, \"#fb9f3a\"], [0.8888888888888888, \"#fdca26\"], [1.0, \"#f0f921\"]], \"type\": \"surface\"}], \"table\": [{\"cells\": {\"fill\": {\"color\": \"#EBF0F8\"}, \"line\": {\"color\": \"white\"}}, \"header\": {\"fill\": {\"color\": \"#C8D4E3\"}, \"line\": {\"color\": \"white\"}}, \"type\": \"table\"}]}, \"layout\": {\"annotationdefaults\": {\"arrowcolor\": \"#2a3f5f\", \"arrowhead\": 0, \"arrowwidth\": 1}, \"coloraxis\": {\"colorbar\": {\"outlinewidth\": 0, \"ticks\": \"\"}}, \"colorscale\": {\"diverging\": [[0, \"#8e0152\"], [0.1, \"#c51b7d\"], [0.2, \"#de77ae\"], [0.3, \"#f1b6da\"], [0.4, \"#fde0ef\"], [0.5, \"#f7f7f7\"], [0.6, \"#e6f5d0\"], [0.7, \"#b8e186\"], [0.8, \"#7fbc41\"], [0.9, \"#4d9221\"], [1, \"#276419\"]], \"sequential\": [[0.0, \"#0d0887\"], [0.1111111111111111, \"#46039f\"], [0.2222222222222222, \"#7201a8\"], [0.3333333333333333, \"#9c179e\"], [0.4444444444444444, \"#bd3786\"], [0.5555555555555556, \"#d8576b\"], [0.6666666666666666, \"#ed7953\"], [0.7777777777777778, \"#fb9f3a\"], [0.8888888888888888, \"#fdca26\"], [1.0, \"#f0f921\"]], \"sequentialminus\": [[0.0, \"#0d0887\"], [0.1111111111111111, \"#46039f\"], [0.2222222222222222, \"#7201a8\"], [0.3333333333333333, \"#9c179e\"], [0.4444444444444444, \"#bd3786\"], [0.5555555555555556, \"#d8576b\"], [0.6666666666666666, \"#ed7953\"], [0.7777777777777778, \"#fb9f3a\"], [0.8888888888888888, \"#fdca26\"], [1.0, \"#f0f921\"]]}, \"colorway\": [\"#636efa\", \"#EF553B\", \"#00cc96\", \"#ab63fa\", \"#FFA15A\", \"#19d3f3\", \"#FF6692\", \"#B6E880\", \"#FF97FF\", \"#FECB52\"], \"font\": {\"color\": \"#2a3f5f\"}, \"geo\": {\"bgcolor\": \"white\", \"lakecolor\": \"white\", \"landcolor\": \"#E5ECF6\", \"showlakes\": true, \"showland\": true, \"subunitcolor\": \"white\"}, \"hoverlabel\": {\"align\": \"left\"}, \"hovermode\": \"closest\", \"mapbox\": {\"style\": \"light\"}, \"paper_bgcolor\": \"white\", \"plot_bgcolor\": \"#E5ECF6\", \"polar\": {\"angularaxis\": {\"gridcolor\": \"white\", \"linecolor\": \"white\", \"ticks\": \"\"}, \"bgcolor\": \"#E5ECF6\", \"radialaxis\": {\"gridcolor\": \"white\", \"linecolor\": \"white\", \"ticks\": \"\"}}, \"scene\": {\"xaxis\": {\"backgroundcolor\": \"#E5ECF6\", \"gridcolor\": \"white\", \"gridwidth\": 2, \"linecolor\": \"white\", \"showbackground\": true, \"ticks\": \"\", \"zerolinecolor\": \"white\"}, \"yaxis\": {\"backgroundcolor\": \"#E5ECF6\", \"gridcolor\": \"white\", \"gridwidth\": 2, \"linecolor\": \"white\", \"showbackground\": true, \"ticks\": \"\", \"zerolinecolor\": \"white\"}, \"zaxis\": {\"backgroundcolor\": \"#E5ECF6\", \"gridcolor\": \"white\", \"gridwidth\": 2, \"linecolor\": \"white\", \"showbackground\": true, \"ticks\": \"\", \"zerolinecolor\": \"white\"}}, \"shapedefaults\": {\"line\": {\"color\": \"#2a3f5f\"}}, \"ternary\": {\"aaxis\": {\"gridcolor\": \"white\", \"linecolor\": \"white\", \"ticks\": \"\"}, \"baxis\": {\"gridcolor\": \"white\", \"linecolor\": \"white\", \"ticks\": \"\"}, \"bgcolor\": \"#E5ECF6\", \"caxis\": {\"gridcolor\": \"white\", \"linecolor\": \"white\", \"ticks\": \"\"}}, \"title\": {\"x\": 0.05}, \"xaxis\": {\"automargin\": true, \"gridcolor\": \"white\", \"linecolor\": \"white\", \"ticks\": \"\", \"title\": {\"standoff\": 15}, \"zerolinecolor\": \"white\", \"zerolinewidth\": 2}, \"yaxis\": {\"automargin\": true, \"gridcolor\": \"white\", \"linecolor\": \"white\", \"ticks\": \"\", \"title\": {\"standoff\": 15}, \"zerolinecolor\": \"white\", \"zerolinewidth\": 2}}}, \"xaxis\": {\"anchor\": \"y\", \"domain\": [0.0, 1.0], \"title\": {\"text\": \"price_per_sq_meter\"}}, \"yaxis\": {\"anchor\": \"x\", \"domain\": [0.0, 1.0], \"title\": {\"text\": \"count\"}}},\n",
       "                        {\"responsive\": true}\n",
       "                    ).then(function(){\n",
       "                            \n",
       "var gd = document.getElementById('4f0e6382-b1c7-4621-ac57-ec074d488702');\n",
       "var x = new MutationObserver(function (mutations, observer) {{\n",
       "        var display = window.getComputedStyle(gd).display;\n",
       "        if (!display || display === 'none') {{\n",
       "            console.log([gd, 'removed!']);\n",
       "            Plotly.purge(gd);\n",
       "            observer.disconnect();\n",
       "        }}\n",
       "}});\n",
       "\n",
       "// Listen for the removal of the full notebook cells\n",
       "var notebookContainer = gd.closest('#notebook-container');\n",
       "if (notebookContainer) {{\n",
       "    x.observe(notebookContainer, {childList: true});\n",
       "}}\n",
       "\n",
       "// Listen for the clearing of the current output cell\n",
       "var outputEl = gd.closest('.output');\n",
       "if (outputEl) {{\n",
       "    x.observe(outputEl, {childList: true});\n",
       "}}\n",
       "\n",
       "                        })\n",
       "                };\n",
       "                });\n",
       "            </script>\n",
       "        </div>"
      ]
     },
     "metadata": {},
     "output_type": "display_data"
    }
   ],
   "source": [
    "fig = px.histogram(one_flat[one_flat.cluster_label=='14'], x=\"price_per_sq_meter\"\n",
    "                   , nbins=20, color=\"New_building\", opacity=0.8)\n",
    "fig.show()"
   ]
  }
 ],
 "metadata": {
  "kernelspec": {
   "display_name": "Python 3",
   "language": "python",
   "name": "python3"
  },
  "language_info": {
   "codemirror_mode": {
    "name": "ipython",
    "version": 3
   },
   "file_extension": ".py",
   "mimetype": "text/x-python",
   "name": "python",
   "nbconvert_exporter": "python",
   "pygments_lexer": "ipython3",
   "version": "3.7.4"
  }
 },
 "nbformat": 4,
 "nbformat_minor": 2
}
