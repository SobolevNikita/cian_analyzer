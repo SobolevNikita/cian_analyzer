{
 "cells": [
  {
   "cell_type": "code",
   "execution_count": 1,
   "metadata": {},
   "outputs": [],
   "source": [
    "# by running this notebook with raw csv file database.csv you will get file with floats\n",
    "# and proper dates which is called final.csv and which has New_building, quarter and city\n",
    "#columns "
   ]
  },
  {
   "cell_type": "code",
   "execution_count": 2,
   "metadata": {},
   "outputs": [],
   "source": [
    "import pandas as pd\n",
    "import numpy as np\n",
    "import warnings\n",
    "import ast\n",
    "from tqdm import tqdm\n",
    "from datetime import datetime\n",
    "warnings.filterwarnings('ignore')"
   ]
  },
  {
   "cell_type": "code",
   "execution_count": 3,
   "metadata": {},
   "outputs": [],
   "source": [
    "# import plotly.offline as pyo\n",
    "# import plotly.graph_objs as go\n",
    "tqdm.pandas(desc=\"my bar!\")"
   ]
  },
  {
   "cell_type": "code",
   "execution_count": 4,
   "metadata": {},
   "outputs": [],
   "source": [
    "flats = pd.read_csv('database.csv',sep=',',dtype='unicode')"
   ]
  },
  {
   "cell_type": "markdown",
   "metadata": {},
   "source": [
    "делаю числом все, что может быть числом"
   ]
  },
  {
   "cell_type": "code",
   "execution_count": 5,
   "metadata": {},
   "outputs": [],
   "source": [
    "def string_to_obj(x):\n",
    "    try:\n",
    "        tmp = ast.literal_eval(x)\n",
    "    except:\n",
    "        tmp = x\n",
    "    return tmp"
   ]
  },
  {
   "cell_type": "code",
   "execution_count": 6,
   "metadata": {
    "scrolled": true
   },
   "outputs": [
    {
     "name": "stderr",
     "output_type": "stream",
     "text": [
      "my bar!: 100%|████████████████████████████████████████████████████████████████████████████| 17169350/17169350 [04:19<00:00, 66056.95it/s]\n"
     ]
    }
   ],
   "source": [
    "flats = flats.progress_applymap(string_to_obj)"
   ]
  },
  {
   "cell_type": "code",
   "execution_count": 7,
   "metadata": {},
   "outputs": [],
   "source": [
    "flats = flats.loc[flats.date_of_adding_to_db.apply(type) != list]"
   ]
  },
  {
   "cell_type": "code",
   "execution_count": 8,
   "metadata": {},
   "outputs": [],
   "source": [
    "def make_new_buildings(x):\n",
    "#     print(x.Building_year)\n",
    "#     print(x.Building_year.isinstance(list))\n",
    "    if type(x.Building_year) is list and len(x.Building_year)==2:\n",
    "        lst = x.Building_year\n",
    "        x['New_building'] = True\n",
    "        x.Building_year = lst[-1]\n",
    "        x['quarter'] = lst[0]\n",
    "    else:\n",
    "        x['New_building'] = False\n",
    "        x['quarter'] = None\n",
    "    return x#.New_building, x.Building_year, x.quarter       "
   ]
  },
  {
   "cell_type": "code",
   "execution_count": 9,
   "metadata": {
    "scrolled": true
   },
   "outputs": [
    {
     "name": "stderr",
     "output_type": "stream",
     "text": [
      "my bar!: 100%|██████████████████████████████████████████████████████████████████████████████████| 343342/343342 [18:36<00:00, 307.62it/s]\n"
     ]
    }
   ],
   "source": [
    "flats  = flats.progress_apply(make_new_buildings, axis=1)"
   ]
  },
  {
   "cell_type": "code",
   "execution_count": 10,
   "metadata": {},
   "outputs": [],
   "source": [
    "def make_float(x):\n",
    "    try:\n",
    "        tmp = float(x)\n",
    "    except:\n",
    "        tmp = x\n",
    "    return tmp"
   ]
  },
  {
   "cell_type": "code",
   "execution_count": 11,
   "metadata": {},
   "outputs": [],
   "source": [
    "def str_to_date(x):\n",
    "    if x is not np.nan:\n",
    "        try: \n",
    "            return pd.to_datetime(x.date_of_adding_to_db, format=\"%Y-%m-%d\")\n",
    "        except: \n",
    "            return pd.to_datetime(x.date_of_adding_to_db, format=\"%d.%m.%Y\")\n",
    "    else:\n",
    "        return np.nan"
   ]
  },
  {
   "cell_type": "code",
   "execution_count": 12,
   "metadata": {
    "scrolled": true
   },
   "outputs": [
    {
     "name": "stderr",
     "output_type": "stream",
     "text": [
      "my bar!: 100%|█████████████████████████████████████████████████████████████████████████████████| 343342/343342 [01:49<00:00, 3137.57it/s]\n"
     ]
    }
   ],
   "source": [
    "flats['date_of_adding_to_db'] = flats.progress_apply(str_to_date, axis=1)"
   ]
  },
  {
   "cell_type": "code",
   "execution_count": 13,
   "metadata": {},
   "outputs": [],
   "source": [
    "# flats.date_of_adding_to_db = flats.date_of_adding_to_db.progress_apply(lambda x: datetime.strptime(x, '%Y-%m-%d') if x is not np.nan else np.nan)"
   ]
  },
  {
   "cell_type": "code",
   "execution_count": 14,
   "metadata": {
    "scrolled": true
   },
   "outputs": [
    {
     "data": {
      "text/plain": [
       "array(['2020-02-26T00:00:00.000000000', '2020-02-27T00:00:00.000000000',\n",
       "       '2020-02-28T00:00:00.000000000', '2020-02-29T00:00:00.000000000',\n",
       "       '2020-03-01T00:00:00.000000000', '2020-03-02T00:00:00.000000000',\n",
       "       '2020-03-03T00:00:00.000000000', '2020-03-04T00:00:00.000000000',\n",
       "       '2020-03-05T00:00:00.000000000', '2020-03-06T00:00:00.000000000',\n",
       "       '2020-03-07T00:00:00.000000000', '2020-03-08T00:00:00.000000000',\n",
       "       '2020-03-09T00:00:00.000000000', '2020-03-10T00:00:00.000000000',\n",
       "       '2020-03-11T00:00:00.000000000', '2020-03-12T00:00:00.000000000',\n",
       "       '2020-03-13T00:00:00.000000000', '2020-03-14T00:00:00.000000000',\n",
       "       '2020-03-15T00:00:00.000000000', '2020-03-18T00:00:00.000000000',\n",
       "       '2020-03-19T00:00:00.000000000', '2020-03-20T00:00:00.000000000',\n",
       "       '2020-03-21T00:00:00.000000000', '2020-03-22T00:00:00.000000000',\n",
       "       '2020-03-23T00:00:00.000000000', '2020-03-24T00:00:00.000000000',\n",
       "       '2020-03-26T00:00:00.000000000', '2020-03-27T00:00:00.000000000',\n",
       "       '2020-03-28T00:00:00.000000000', '2020-03-29T00:00:00.000000000',\n",
       "       '2020-03-30T00:00:00.000000000', '2020-03-31T00:00:00.000000000',\n",
       "       '2020-04-01T00:00:00.000000000', '2020-04-02T00:00:00.000000000',\n",
       "       '2020-04-03T00:00:00.000000000', '2020-04-04T00:00:00.000000000',\n",
       "       '2020-04-05T00:00:00.000000000', '2020-04-06T00:00:00.000000000',\n",
       "       '2020-04-07T00:00:00.000000000', '2020-04-08T00:00:00.000000000',\n",
       "       '2020-04-09T00:00:00.000000000', '2020-04-10T00:00:00.000000000',\n",
       "       '2020-04-12T00:00:00.000000000', '2020-04-13T00:00:00.000000000',\n",
       "       '2020-04-14T00:00:00.000000000', '2020-04-15T00:00:00.000000000',\n",
       "       '2020-04-16T00:00:00.000000000', '2020-04-17T00:00:00.000000000',\n",
       "       '2020-04-18T00:00:00.000000000', '2020-04-19T00:00:00.000000000',\n",
       "       '2020-04-20T00:00:00.000000000', '2020-04-21T00:00:00.000000000',\n",
       "       '2020-04-22T00:00:00.000000000', '2020-04-23T00:00:00.000000000',\n",
       "       '2020-04-24T00:00:00.000000000', '2020-04-25T00:00:00.000000000',\n",
       "       '2020-04-26T00:00:00.000000000'], dtype='datetime64[ns]')"
      ]
     },
     "execution_count": 14,
     "metadata": {},
     "output_type": "execute_result"
    }
   ],
   "source": [
    "flats.date_of_adding_to_db.unique()"
   ]
  },
  {
   "cell_type": "code",
   "execution_count": 15,
   "metadata": {},
   "outputs": [],
   "source": [
    "def make_float_or_nan(x):\n",
    "    try:\n",
    "        tmp = float(x)\n",
    "    except:\n",
    "        tmp = np.nan\n",
    "    return tmp"
   ]
  },
  {
   "cell_type": "code",
   "execution_count": 16,
   "metadata": {},
   "outputs": [],
   "source": [
    "flats.total_price = flats.total_price.apply(make_float_or_nan)\n"
   ]
  },
  {
   "cell_type": "code",
   "execution_count": 17,
   "metadata": {
    "scrolled": true
   },
   "outputs": [
    {
     "data": {
      "text/plain": [
       "Number_of_rooms\n",
       "5.0      852\n",
       "4.0     5476\n",
       "0.8    11313\n",
       "3.0    34316\n",
       "2.0    85174\n",
       "1.0    86091\n",
       "Name: id, dtype: int64"
      ]
     },
     "execution_count": 17,
     "metadata": {},
     "output_type": "execute_result"
    }
   ],
   "source": [
    "flats.groupby('Number_of_rooms')['id'].count().sort_values()"
   ]
  },
  {
   "cell_type": "code",
   "execution_count": 18,
   "metadata": {},
   "outputs": [
    {
     "name": "stderr",
     "output_type": "stream",
     "text": [
      "my bar!: 100%|███████████████████████████████████████████████████████████████████████████| 17853784/17853784 [00:49<00:00, 360789.61it/s]\n"
     ]
    }
   ],
   "source": [
    "flats  = flats.progress_applymap(make_float)"
   ]
  },
  {
   "cell_type": "code",
   "execution_count": 19,
   "metadata": {
    "scrolled": true
   },
   "outputs": [],
   "source": [
    "flats['city'] = flats.address.apply(lambda x: x[0] if x is not None and x is not np.nan else None)\n",
    "flats['address'] = flats.address.apply(lambda x: \"\".join(x) if x is not None and x is not np.nan else None)"
   ]
  },
  {
   "cell_type": "code",
   "execution_count": 20,
   "metadata": {},
   "outputs": [
    {
     "data": {
      "text/html": [
       "<div>\n",
       "<style scoped>\n",
       "    .dataframe tbody tr th:only-of-type {\n",
       "        vertical-align: middle;\n",
       "    }\n",
       "\n",
       "    .dataframe tbody tr th {\n",
       "        vertical-align: top;\n",
       "    }\n",
       "\n",
       "    .dataframe thead th {\n",
       "        text-align: right;\n",
       "    }\n",
       "</style>\n",
       "<table border=\"1\" class=\"dataframe\">\n",
       "  <thead>\n",
       "    <tr style=\"text-align: right;\">\n",
       "      <th></th>\n",
       "      <th>Building_year</th>\n",
       "      <th>Number_of_rooms</th>\n",
       "      <th>_id</th>\n",
       "      <th>active</th>\n",
       "      <th>address</th>\n",
       "      <th>bathroom_number</th>\n",
       "      <th>bathroom_separated</th>\n",
       "      <th>ceiling_type</th>\n",
       "      <th>central_heating</th>\n",
       "      <th>cian_id</th>\n",
       "      <th>...</th>\n",
       "      <th>total_price</th>\n",
       "      <th>type_of_flat</th>\n",
       "      <th>visitors</th>\n",
       "      <th>whole_storey_number</th>\n",
       "      <th>windows_to_street</th>\n",
       "      <th>сeiling_height</th>\n",
       "      <th>trade_type</th>\n",
       "      <th>New_building</th>\n",
       "      <th>quarter</th>\n",
       "      <th>city</th>\n",
       "    </tr>\n",
       "  </thead>\n",
       "  <tbody>\n",
       "    <tr>\n",
       "      <td>13</td>\n",
       "      <td>NaN</td>\n",
       "      <td>NaN</td>\n",
       "      <td>ObjectId(5e56d3f574c444141af62f73)</td>\n",
       "      <td>true</td>\n",
       "      <td>None</td>\n",
       "      <td>NaN</td>\n",
       "      <td>NaN</td>\n",
       "      <td>NaN</td>\n",
       "      <td>NaN</td>\n",
       "      <td>225950180.0</td>\n",
       "      <td>...</td>\n",
       "      <td>NaN</td>\n",
       "      <td>NaN</td>\n",
       "      <td>NaN</td>\n",
       "      <td>[null,null]</td>\n",
       "      <td>NaN</td>\n",
       "      <td>NaN</td>\n",
       "      <td>NaN</td>\n",
       "      <td>0.0</td>\n",
       "      <td>NaN</td>\n",
       "      <td>None</td>\n",
       "    </tr>\n",
       "    <tr>\n",
       "      <td>16</td>\n",
       "      <td>NaN</td>\n",
       "      <td>NaN</td>\n",
       "      <td>ObjectId(5e56d3fe0e5436f6f7f62f75)</td>\n",
       "      <td>true</td>\n",
       "      <td>None</td>\n",
       "      <td>NaN</td>\n",
       "      <td>NaN</td>\n",
       "      <td>NaN</td>\n",
       "      <td>NaN</td>\n",
       "      <td>225950184.0</td>\n",
       "      <td>...</td>\n",
       "      <td>NaN</td>\n",
       "      <td>NaN</td>\n",
       "      <td>NaN</td>\n",
       "      <td>[null,null]</td>\n",
       "      <td>NaN</td>\n",
       "      <td>NaN</td>\n",
       "      <td>NaN</td>\n",
       "      <td>0.0</td>\n",
       "      <td>NaN</td>\n",
       "      <td>None</td>\n",
       "    </tr>\n",
       "    <tr>\n",
       "      <td>21</td>\n",
       "      <td>NaN</td>\n",
       "      <td>NaN</td>\n",
       "      <td>ObjectId(5e56d421a04896a979f62f75)</td>\n",
       "      <td>true</td>\n",
       "      <td>None</td>\n",
       "      <td>NaN</td>\n",
       "      <td>NaN</td>\n",
       "      <td>NaN</td>\n",
       "      <td>NaN</td>\n",
       "      <td>225950189.0</td>\n",
       "      <td>...</td>\n",
       "      <td>NaN</td>\n",
       "      <td>NaN</td>\n",
       "      <td>NaN</td>\n",
       "      <td>3</td>\n",
       "      <td>NaN</td>\n",
       "      <td>NaN</td>\n",
       "      <td>NaN</td>\n",
       "      <td>0.0</td>\n",
       "      <td>NaN</td>\n",
       "      <td>None</td>\n",
       "    </tr>\n",
       "    <tr>\n",
       "      <td>25</td>\n",
       "      <td>NaN</td>\n",
       "      <td>NaN</td>\n",
       "      <td>ObjectId(5e56d435baafcdff7ef62f79)</td>\n",
       "      <td>true</td>\n",
       "      <td>None</td>\n",
       "      <td>NaN</td>\n",
       "      <td>NaN</td>\n",
       "      <td>NaN</td>\n",
       "      <td>NaN</td>\n",
       "      <td>225950195.0</td>\n",
       "      <td>...</td>\n",
       "      <td>NaN</td>\n",
       "      <td>NaN</td>\n",
       "      <td>NaN</td>\n",
       "      <td>[null,null]</td>\n",
       "      <td>NaN</td>\n",
       "      <td>NaN</td>\n",
       "      <td>NaN</td>\n",
       "      <td>0.0</td>\n",
       "      <td>NaN</td>\n",
       "      <td>None</td>\n",
       "    </tr>\n",
       "    <tr>\n",
       "      <td>27</td>\n",
       "      <td>NaN</td>\n",
       "      <td>NaN</td>\n",
       "      <td>ObjectId(5e56d446baafcdff7ef62f7b)</td>\n",
       "      <td>true</td>\n",
       "      <td>None</td>\n",
       "      <td>NaN</td>\n",
       "      <td>NaN</td>\n",
       "      <td>NaN</td>\n",
       "      <td>NaN</td>\n",
       "      <td>225950197.0</td>\n",
       "      <td>...</td>\n",
       "      <td>NaN</td>\n",
       "      <td>NaN</td>\n",
       "      <td>NaN</td>\n",
       "      <td>2</td>\n",
       "      <td>NaN</td>\n",
       "      <td>NaN</td>\n",
       "      <td>sale</td>\n",
       "      <td>0.0</td>\n",
       "      <td>NaN</td>\n",
       "      <td>None</td>\n",
       "    </tr>\n",
       "  </tbody>\n",
       "</table>\n",
       "<p>5 rows × 53 columns</p>\n",
       "</div>"
      ],
      "text/plain": [
       "    Building_year  Number_of_rooms                                 _id active  \\\n",
       "13            NaN              NaN  ObjectId(5e56d3f574c444141af62f73)   true   \n",
       "16            NaN              NaN  ObjectId(5e56d3fe0e5436f6f7f62f75)   true   \n",
       "21            NaN              NaN  ObjectId(5e56d421a04896a979f62f75)   true   \n",
       "25            NaN              NaN  ObjectId(5e56d435baafcdff7ef62f79)   true   \n",
       "27            NaN              NaN  ObjectId(5e56d446baafcdff7ef62f7b)   true   \n",
       "\n",
       "   address  bathroom_number bathroom_separated ceiling_type central_heating  \\\n",
       "13    None              NaN                NaN          NaN             NaN   \n",
       "16    None              NaN                NaN          NaN             NaN   \n",
       "21    None              NaN                NaN          NaN             NaN   \n",
       "25    None              NaN                NaN          NaN             NaN   \n",
       "27    None              NaN                NaN          NaN             NaN   \n",
       "\n",
       "        cian_id  ... total_price type_of_flat visitors whole_storey_number  \\\n",
       "13  225950180.0  ...         NaN          NaN      NaN         [null,null]   \n",
       "16  225950184.0  ...         NaN          NaN      NaN         [null,null]   \n",
       "21  225950189.0  ...         NaN          NaN      NaN                   3   \n",
       "25  225950195.0  ...         NaN          NaN      NaN         [null,null]   \n",
       "27  225950197.0  ...         NaN          NaN      NaN                   2   \n",
       "\n",
       "   windows_to_street  сeiling_height  trade_type  New_building  quarter  city  \n",
       "13               NaN             NaN         NaN           0.0      NaN  None  \n",
       "16               NaN             NaN         NaN           0.0      NaN  None  \n",
       "21               NaN             NaN         NaN           0.0      NaN  None  \n",
       "25               NaN             NaN         NaN           0.0      NaN  None  \n",
       "27               NaN             NaN        sale           0.0      NaN  None  \n",
       "\n",
       "[5 rows x 53 columns]"
      ]
     },
     "execution_count": 20,
     "metadata": {},
     "output_type": "execute_result"
    }
   ],
   "source": [
    "flats.head()"
   ]
  },
  {
   "cell_type": "code",
   "execution_count": 21,
   "metadata": {},
   "outputs": [],
   "source": [
    "flats.to_csv('final.csv')"
   ]
  }
 ],
 "metadata": {
  "kernelspec": {
   "display_name": "Python 3",
   "language": "python",
   "name": "python3"
  },
  "language_info": {
   "codemirror_mode": {
    "name": "ipython",
    "version": 3
   },
   "file_extension": ".py",
   "mimetype": "text/x-python",
   "name": "python",
   "nbconvert_exporter": "python",
   "pygments_lexer": "ipython3",
   "version": "3.7.4"
  }
 },
 "nbformat": 4,
 "nbformat_minor": 2
}
