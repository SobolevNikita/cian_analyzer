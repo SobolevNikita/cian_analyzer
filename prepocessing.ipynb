{
 "cells": [
  {
   "cell_type": "code",
   "execution_count": 1,
   "metadata": {},
   "outputs": [],
   "source": [
    "import pandas as pd\n",
    "import numpy as np\n",
    "import warnings\n",
    "import ast\n",
    "from tqdm import tqdm\n",
    "from datetime import datetime\n",
    "warnings.filterwarnings('ignore')"
   ]
  },
  {
   "cell_type": "code",
   "execution_count": 2,
   "metadata": {},
   "outputs": [],
   "source": [
    "import plotly.offline as pyo\n",
    "import plotly.graph_objs as go\n",
    "tqdm.pandas(desc=\"my bar!\")"
   ]
  },
  {
   "cell_type": "code",
   "execution_count": 3,
   "metadata": {},
   "outputs": [],
   "source": [
    "flats = pd.read_csv('database.csv',sep=',',dtype='unicode')"
   ]
  },
  {
   "cell_type": "code",
   "execution_count": 4,
   "metadata": {},
   "outputs": [
    {
     "data": {
      "text/plain": [
       "Building_year                       90023\n",
       "Number_of_rooms                    168513\n",
       "_id                                263747\n",
       "active                             263747\n",
       "address                            245282\n",
       "bathroom_number                     38919\n",
       "bathroom_separated                  38919\n",
       "ceiling_type                        35655\n",
       "central_heating                     35598\n",
       "cian_id                            263747\n",
       "date_of_adding_to_db               263747\n",
       "date_of_place                       21787\n",
       "emergency_condition                 38544\n",
       "house_type                          63604\n",
       "housing_complex                     52871\n",
       "id                                 263747\n",
       "kitchen_area                        60158\n",
       "latitude                           157278\n",
       "living_area                         59623\n",
       "longitude                          157278\n",
       "passengers_elevator_number          24109\n",
       "pic_urls                           263747\n",
       "porch_num                           36911\n",
       "price_per_house_in_dst              26149\n",
       "price_per_house_in_dst_dynamics     26149\n",
       "price_per_meter_in_dst              26149\n",
       "price_per_meter_in_dst_dynamics     26149\n",
       "price_per_sq_meter                 194109\n",
       "price_range                         31576\n",
       "purchase_dynamics                   26149\n",
       "purchase_price                      26149\n",
       "rent_dynamics                       26149\n",
       "rent_dynamics_in_dst                26149\n",
       "rent_price                          26149\n",
       "rent_price_in_dst                   26149\n",
       "room1_square                        15700\n",
       "room2_square                         5853\n",
       "room3_square                         2531\n",
       "seen_as_old                         78044\n",
       "service_elevator_number             24109\n",
       "storey_number                      263747\n",
       "total_area                         162394\n",
       "total_number_views                  21802\n",
       "total_price                        206038\n",
       "type_of_flat                        44731\n",
       "visitors                            22733\n",
       "whole_storey_number                263747\n",
       "windows_to_street                   23005\n",
       "сeiling_height                      12615\n",
       "dtype: int64"
      ]
     },
     "execution_count": 4,
     "metadata": {},
     "output_type": "execute_result"
    }
   ],
   "source": [
    "flats.count()"
   ]
  },
  {
   "cell_type": "markdown",
   "metadata": {},
   "source": [
    "делаю числом все, что может быть числом"
   ]
  },
  {
   "cell_type": "code",
   "execution_count": 5,
   "metadata": {},
   "outputs": [],
   "source": [
    "def string_to_obj(x):\n",
    "    try:\n",
    "        tmp = ast.literal_eval(x)\n",
    "    except:\n",
    "        tmp = x\n",
    "    return tmp"
   ]
  },
  {
   "cell_type": "code",
   "execution_count": 6,
   "metadata": {
    "scrolled": true
   },
   "outputs": [
    {
     "name": "stderr",
     "output_type": "stream",
     "text": [
      "my bar!: 100%|████████████████████████████████████████████████████████████████████████████| 12923603/12923603 [03:31<00:00, 61014.58it/s]\n"
     ]
    }
   ],
   "source": [
    "flats = flats.progress_applymap(string_to_obj)"
   ]
  },
  {
   "cell_type": "code",
   "execution_count": 7,
   "metadata": {},
   "outputs": [],
   "source": [
    "flats = flats.loc[flats.date_of_adding_to_db.apply(type) != list]"
   ]
  },
  {
   "cell_type": "code",
   "execution_count": 8,
   "metadata": {},
   "outputs": [],
   "source": [
    "def make_new_buildings(x):\n",
    "#     print(x.Building_year)\n",
    "#     print(x.Building_year.isinstance(list))\n",
    "    if type(x.Building_year) is list and len(x.Building_year)==2:\n",
    "        lst = x.Building_year\n",
    "        x['New_building'] = True\n",
    "        x.Building_year = lst[-1]\n",
    "        x['quarter'] = lst[0]\n",
    "    else:\n",
    "        x['New_building'] = False\n",
    "        x['quarter'] = None\n",
    "    return x#.New_building, x.Building_year, x.quarter       "
   ]
  },
  {
   "cell_type": "code",
   "execution_count": 9,
   "metadata": {
    "scrolled": true
   },
   "outputs": [
    {
     "name": "stderr",
     "output_type": "stream",
     "text": [
      "my bar!: 100%|██████████████████████████████████████████████████████████████| 263702/263702 [13:59<00:00, 313.98it/s]\n"
     ]
    }
   ],
   "source": [
    "flats  = flats.progress_apply(make_new_buildings, axis=1)"
   ]
  },
  {
   "cell_type": "code",
   "execution_count": 10,
   "metadata": {},
   "outputs": [],
   "source": [
    "def make_float(x):\n",
    "    try:\n",
    "        tmp = float(x)\n",
    "    except:\n",
    "        tmp = x\n",
    "    return tmp"
   ]
  },
  {
   "cell_type": "code",
   "execution_count": 11,
   "metadata": {},
   "outputs": [],
   "source": [
    "def make_float_or_nan(x):\n",
    "    try:\n",
    "        tmp = float(x)\n",
    "    except:\n",
    "        tmp = np.nan\n",
    "    return tmp"
   ]
  },
  {
   "cell_type": "markdown",
   "metadata": {},
   "source": [
    "делаю числом все цены, иначе делаю их нанами"
   ]
  },
  {
   "cell_type": "code",
   "execution_count": 12,
   "metadata": {},
   "outputs": [
    {
     "data": {
      "text/plain": [
       "array(['2020-02-26', '2020-02-27', '2020-02-28', '2020-02-29',\n",
       "       '2020-03-01', '2020-03-02', '2020-03-03', '2020-03-04',\n",
       "       '2020-03-05', '2020-03-06', '2020-03-07', '2020-03-08',\n",
       "       '2020-03-09', '2020-03-10', '2020-03-11', '2020-03-12',\n",
       "       '2020-03-13', '2020-03-14', '2020-03-15', '2020-03-18',\n",
       "       '2020-03-19', '2020-03-20', '2020-03-21', '2020-03-22',\n",
       "       '2020-03-23', '2020-03-24', '2020-03-26', '2020-03-27',\n",
       "       '2020-03-28', '2020-03-29', '2020-03-30', '2020-03-31',\n",
       "       '2020-04-01', '2020-04-02', '2020-04-03', '2020-04-04',\n",
       "       '2020-04-05', '2020-04-06', '2020-04-07', '2020-04-08',\n",
       "       '2020-04-09', '2020-04-10', '2020-04-12', '2020-04-13',\n",
       "       '2020-04-14', '2020-04-15'], dtype=object)"
      ]
     },
     "execution_count": 12,
     "metadata": {},
     "output_type": "execute_result"
    }
   ],
   "source": [
    "flats.date_of_adding_to_db.unique()"
   ]
  },
  {
   "cell_type": "code",
   "execution_count": 13,
   "metadata": {},
   "outputs": [
    {
     "name": "stderr",
     "output_type": "stream",
     "text": [
      "my bar!: 100%|████████████████████████████████████████████████████████████| 263702/263702 [00:06<00:00, 38162.66it/s]\n"
     ]
    },
    {
     "data": {
      "text/plain": [
       "13       2020-02-26\n",
       "16       2020-02-26\n",
       "21       2020-02-26\n",
       "25       2020-02-26\n",
       "27       2020-02-26\n",
       "            ...    \n",
       "263742   2020-04-15\n",
       "263743   2020-04-15\n",
       "263744   2020-04-15\n",
       "263745   2020-04-15\n",
       "263746   2020-04-15\n",
       "Name: date_of_adding_to_db, Length: 263702, dtype: datetime64[ns]"
      ]
     },
     "execution_count": 13,
     "metadata": {},
     "output_type": "execute_result"
    }
   ],
   "source": [
    "flats.date_of_adding_to_db.progress_apply(lambda x: datetime.strptime(x, '%Y-%m-%d') if x is not np.nan else np.nan)"
   ]
  },
  {
   "cell_type": "code",
   "execution_count": 14,
   "metadata": {
    "scrolled": true
   },
   "outputs": [
    {
     "data": {
      "text/plain": [
       "Building_year                       90012\n",
       "Number_of_rooms                    168501\n",
       "_id                                263702\n",
       "active                             263702\n",
       "address                            245258\n",
       "bathroom_number                     38913\n",
       "bathroom_separated                  38913\n",
       "ceiling_type                        35650\n",
       "central_heating                     35593\n",
       "cian_id                            263702\n",
       "date_of_adding_to_db               263702\n",
       "date_of_place                       21787\n",
       "emergency_condition                 38539\n",
       "house_type                          63598\n",
       "housing_complex                     52868\n",
       "id                                 263702\n",
       "kitchen_area                        60151\n",
       "latitude                           157263\n",
       "living_area                         59616\n",
       "longitude                          157263\n",
       "passengers_elevator_number          24108\n",
       "pic_urls                           263702\n",
       "porch_num                           36906\n",
       "price_per_house_in_dst              26145\n",
       "price_per_house_in_dst_dynamics     26145\n",
       "price_per_meter_in_dst              26145\n",
       "price_per_meter_in_dst_dynamics     26145\n",
       "price_per_sq_meter                 194071\n",
       "price_range                         31571\n",
       "purchase_dynamics                   26145\n",
       "purchase_price                      26145\n",
       "rent_dynamics                       26145\n",
       "rent_dynamics_in_dst                26145\n",
       "rent_price                          26145\n",
       "rent_price_in_dst                   26145\n",
       "room1_square                        15700\n",
       "room2_square                         5853\n",
       "room3_square                         2531\n",
       "seen_as_old                         77999\n",
       "service_elevator_number             24108\n",
       "storey_number                      263702\n",
       "total_area                         162383\n",
       "total_number_views                  21787\n",
       "total_price                        206000\n",
       "type_of_flat                        44725\n",
       "visitors                            22733\n",
       "whole_storey_number                263702\n",
       "windows_to_street                   23002\n",
       "сeiling_height                      12613\n",
       "New_building                       263702\n",
       "quarter                             26423\n",
       "dtype: int64"
      ]
     },
     "execution_count": 14,
     "metadata": {},
     "output_type": "execute_result"
    }
   ],
   "source": [
    "flats.count()"
   ]
  },
  {
   "cell_type": "code",
   "execution_count": 15,
   "metadata": {},
   "outputs": [],
   "source": [
    "flats.total_price = flats.total_price.apply(make_float_or_nan)\n"
   ]
  },
  {
   "cell_type": "code",
   "execution_count": 16,
   "metadata": {
    "scrolled": true
   },
   "outputs": [
    {
     "data": {
      "text/plain": [
       "Number_of_rooms\n",
       "5.0      644\n",
       "4.0     4070\n",
       "0.8     8695\n",
       "3.0    25857\n",
       "1.0    64057\n",
       "2.0    65178\n",
       "Name: id, dtype: int64"
      ]
     },
     "execution_count": 16,
     "metadata": {},
     "output_type": "execute_result"
    }
   ],
   "source": [
    "flats.groupby('Number_of_rooms')['id'].count().sort_values()"
   ]
  },
  {
   "cell_type": "code",
   "execution_count": 17,
   "metadata": {
    "scrolled": true
   },
   "outputs": [
    {
     "data": {
      "text/plain": [
       "Building_year                       90012\n",
       "Number_of_rooms                    168501\n",
       "_id                                263702\n",
       "active                             263702\n",
       "address                            245258\n",
       "bathroom_number                     38913\n",
       "bathroom_separated                  38913\n",
       "ceiling_type                        35650\n",
       "central_heating                     35593\n",
       "cian_id                            263702\n",
       "date_of_adding_to_db               263702\n",
       "date_of_place                       21787\n",
       "emergency_condition                 38539\n",
       "house_type                          63598\n",
       "housing_complex                     52868\n",
       "id                                 263702\n",
       "kitchen_area                        60151\n",
       "latitude                           157263\n",
       "living_area                         59616\n",
       "longitude                          157263\n",
       "passengers_elevator_number          24108\n",
       "pic_urls                           263702\n",
       "porch_num                           36906\n",
       "price_per_house_in_dst              26145\n",
       "price_per_house_in_dst_dynamics     26145\n",
       "price_per_meter_in_dst              26145\n",
       "price_per_meter_in_dst_dynamics     26145\n",
       "price_per_sq_meter                 194071\n",
       "price_range                         31571\n",
       "purchase_dynamics                   26145\n",
       "purchase_price                      26145\n",
       "rent_dynamics                       26145\n",
       "rent_dynamics_in_dst                26145\n",
       "rent_price                          26145\n",
       "rent_price_in_dst                   26145\n",
       "room1_square                        15700\n",
       "room2_square                         5853\n",
       "room3_square                         2531\n",
       "seen_as_old                         77999\n",
       "service_elevator_number             24108\n",
       "storey_number                      263702\n",
       "total_area                         162383\n",
       "total_number_views                  21787\n",
       "total_price                        206000\n",
       "type_of_flat                        44725\n",
       "visitors                            22733\n",
       "whole_storey_number                263702\n",
       "windows_to_street                   23002\n",
       "сeiling_height                      12613\n",
       "New_building                       263702\n",
       "quarter                             26423\n",
       "dtype: int64"
      ]
     },
     "execution_count": 17,
     "metadata": {},
     "output_type": "execute_result"
    }
   ],
   "source": [
    "flats.count()"
   ]
  },
  {
   "cell_type": "code",
   "execution_count": 18,
   "metadata": {},
   "outputs": [
    {
     "name": "stderr",
     "output_type": "stream",
     "text": [
      "my bar!: 100%|███████████████████████████████████████████████████████| 13448802/13448802 [00:42<00:00, 315539.16it/s]\n"
     ]
    }
   ],
   "source": [
    "flats  = flats.progress_applymap(make_float)"
   ]
  },
  {
   "cell_type": "code",
   "execution_count": 19,
   "metadata": {
    "scrolled": true
   },
   "outputs": [
    {
     "data": {
      "text/plain": [
       "array(['2020-02-26', '2020-02-27', '2020-02-28', '2020-02-29',\n",
       "       '2020-03-01', '2020-03-02', '2020-03-03', '2020-03-04',\n",
       "       '2020-03-05', '2020-03-06', '2020-03-07', '2020-03-08',\n",
       "       '2020-03-09', '2020-03-10', '2020-03-11', '2020-03-12',\n",
       "       '2020-03-13', '2020-03-14', '2020-03-15', '2020-03-18',\n",
       "       '2020-03-19', '2020-03-20', '2020-03-21', '2020-03-22',\n",
       "       '2020-03-23', '2020-03-24', '2020-03-26', '2020-03-27',\n",
       "       '2020-03-28', '2020-03-29', '2020-03-30', '2020-03-31',\n",
       "       '2020-04-01', '2020-04-02', '2020-04-03', '2020-04-04',\n",
       "       '2020-04-05', '2020-04-06', '2020-04-07', '2020-04-08',\n",
       "       '2020-04-09', '2020-04-10', '2020-04-12', '2020-04-13',\n",
       "       '2020-04-14', '2020-04-15'], dtype=object)"
      ]
     },
     "execution_count": 19,
     "metadata": {},
     "output_type": "execute_result"
    }
   ],
   "source": [
    "flats.date_of_adding_to_db.unique()"
   ]
  },
  {
   "cell_type": "code",
   "execution_count": 20,
   "metadata": {},
   "outputs": [
    {
     "data": {
      "text/plain": [
       "Index(['Building_year', 'Number_of_rooms', '_id', 'active', 'address',\n",
       "       'bathroom_number', 'bathroom_separated', 'ceiling_type',\n",
       "       'central_heating', 'cian_id', 'date_of_adding_to_db', 'date_of_place',\n",
       "       'emergency_condition', 'house_type', 'housing_complex', 'id',\n",
       "       'kitchen_area', 'latitude', 'living_area', 'longitude',\n",
       "       'passengers_elevator_number', 'pic_urls', 'porch_num',\n",
       "       'price_per_house_in_dst', 'price_per_house_in_dst_dynamics',\n",
       "       'price_per_meter_in_dst', 'price_per_meter_in_dst_dynamics',\n",
       "       'price_per_sq_meter', 'price_range', 'purchase_dynamics',\n",
       "       'purchase_price', 'rent_dynamics', 'rent_dynamics_in_dst', 'rent_price',\n",
       "       'rent_price_in_dst', 'room1_square', 'room2_square', 'room3_square',\n",
       "       'seen_as_old', 'service_elevator_number', 'storey_number', 'total_area',\n",
       "       'total_number_views', 'total_price', 'type_of_flat', 'visitors',\n",
       "       'whole_storey_number', 'windows_to_street', 'сeiling_height',\n",
       "       'New_building', 'quarter'],\n",
       "      dtype='object')"
      ]
     },
     "execution_count": 20,
     "metadata": {},
     "output_type": "execute_result"
    }
   ],
   "source": [
    "flats.keys()"
   ]
  },
  {
   "cell_type": "code",
   "execution_count": 30,
   "metadata": {
    "scrolled": true
   },
   "outputs": [],
   "source": [
    "flats['city'] = flats.address.apply(lambda x: x[0] if x is not None and x is not np.nan else None)\n",
    "flats['address'] = flats.address.apply(lambda x: \"\".join(x) if x is not None and x is not np.nan else None)"
   ]
  },
  {
   "cell_type": "code",
   "execution_count": 34,
   "metadata": {},
   "outputs": [],
   "source": [
    "flats.to_csv('final.csv')"
   ]
  }
 ],
 "metadata": {
  "kernelspec": {
   "display_name": "Python 3",
   "language": "python",
   "name": "python3"
  },
  "language_info": {
   "codemirror_mode": {
    "name": "ipython",
    "version": 3
   },
   "file_extension": ".py",
   "mimetype": "text/x-python",
   "name": "python",
   "nbconvert_exporter": "python",
   "pygments_lexer": "ipython3",
   "version": "3.7.4"
  }
 },
 "nbformat": 4,
 "nbformat_minor": 2
}
