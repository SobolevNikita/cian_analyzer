{
 "cells": [
  {
   "cell_type": "code",
   "execution_count": null,
   "metadata": {},
   "outputs": [],
   "source": [
    "import pandas as pd\n",
    "import numpy as np\n",
    "import warnings\n",
    "warnings.filterwarnings('ignore')\n",
    "from scipy.stats import trimboth\n",
    "import ast\n",
    "import geopy\n",
    "from tqdm import tqdm\n",
    "import geopy.distance\n",
    "from tqdm._tqdm_notebook import tqdm_notebook\n",
    "tqdm.pandas(desc=\"Example Desc\")"
   ]
  },
  {
   "cell_type": "code",
   "execution_count": null,
   "metadata": {},
   "outputs": [],
   "source": [
    "import plotly.offline as pyo\n",
    "import chart_studio.plotly as chspy\n",
    "from plotly.offline import download_plotlyjs, init_notebook_mode, plot, iplot\n",
    "import plotly.graph_objs as go\n",
    "import plotly.express as px\n",
    "\n",
    "init_notebook_mode(connected=True)"
   ]
  },
  {
   "cell_type": "code",
   "execution_count": null,
   "metadata": {},
   "outputs": [],
   "source": [
    "import matplotlib.pyplot as plt\n",
    "from sklearn.cluster import KMeans\n",
    "import seaborn as sns; sns.set()\n",
    "import csv"
   ]
  },
  {
   "cell_type": "code",
   "execution_count": null,
   "metadata": {},
   "outputs": [],
   "source": [
    "flats = pd.read_csv('final.csv', index_col=0)"
   ]
  },
  {
   "cell_type": "markdown",
   "metadata": {},
   "source": [
    "### Count number of adds in a region"
   ]
  },
  {
   "cell_type": "code",
   "execution_count": null,
   "metadata": {},
   "outputs": [],
   "source": [
    "spb = flats[(flats.trade_type == 'sale')&\\\n",
    "            ((flats.city == 'Санкт-Петербург')| (flats.city == 'Ленинградская область'))]"
   ]
  },
  {
   "cell_type": "code",
   "execution_count": null,
   "metadata": {
    "scrolled": false
   },
   "outputs": [],
   "source": [
    "spb.groupby('trade_type')['_id'].count().sort_values()"
   ]
  },
  {
   "cell_type": "markdown",
   "metadata": {},
   "source": [
    "Введем расстояние от центра города в spb"
   ]
  },
  {
   "cell_type": "code",
   "execution_count": null,
   "metadata": {},
   "outputs": [],
   "source": [
    "def get_dist(x):\n",
    "    if (np.isnan(x.latitude)  or np.isnan(x.longitude)):\n",
    "        return np.nan\n",
    "    else:\n",
    "        return geopy.distance.vincenty((x.latitude, x.longitude),\\\n",
    "                                     (59.939095, 30.315868)).km"
   ]
  },
  {
   "cell_type": "code",
   "execution_count": null,
   "metadata": {},
   "outputs": [],
   "source": [
    "spb['distance'] = spb.progress_apply(get_dist, axis=1)"
   ]
  },
  {
   "cell_type": "code",
   "execution_count": null,
   "metadata": {},
   "outputs": [],
   "source": [
    "spb_districts = ['Приморский',\n",
    " 'Красносельский',\n",
    " 'Петроградский',\n",
    " 'Адмиралтейский',\n",
    " 'Московский',\n",
    " 'Калининский',\n",
    " 'Курортный',\n",
    " 'Центральный',\n",
    " 'Василеостровский',\n",
    " 'Фрунзенский',\n",
    " 'Выборгский',\n",
    " 'Невский',\n",
    " 'Петродворцовый',\n",
    " 'Красногвардейский',\n",
    " 'Колпинский',\n",
    " 'Кировский',\n",
    " 'Пушкинский', \n",
    "'Кронштадтский']"
   ]
  },
  {
   "cell_type": "code",
   "execution_count": null,
   "metadata": {},
   "outputs": [],
   "source": [
    "def find_district(address):\n",
    "    for i in spb_districts: \n",
    "        if i in address:\n",
    "            return i.strip()\n",
    "    return None\n",
    "spb['district'] = spb.apply(lambda row : find_district(row['address']), axis = 1) "
   ]
  },
  {
   "cell_type": "code",
   "execution_count": null,
   "metadata": {
    "scrolled": true
   },
   "outputs": [],
   "source": [
    "spb.groupby('New_building')['id'].count().sort_values()"
   ]
  },
  {
   "cell_type": "code",
   "execution_count": null,
   "metadata": {},
   "outputs": [],
   "source": [
    "spb_cluster = spb[['longitude', 'latitude', 'price_per_sq_meter']]"
   ]
  },
  {
   "cell_type": "code",
   "execution_count": null,
   "metadata": {
    "scrolled": true
   },
   "outputs": [],
   "source": [
    "from IPython.display import Image\n",
    "from IPython.core.display import HTML , display\n",
    "x = flats[flats.cian_id==228193926].pic_urls.values[0]#[247768]\n",
    "for i in ast.literal_eval(x):\n",
    "    display(Image(url= i))"
   ]
  },
  {
   "cell_type": "markdown",
   "metadata": {},
   "source": [
    "## Statistic analysis"
   ]
  },
  {
   "cell_type": "code",
   "execution_count": null,
   "metadata": {},
   "outputs": [],
   "source": [
    "clustering_data=spb[spb.trade_type=='sale']\\\n",
    "[['price_per_sq_meter', 'latitude', 'longitude', '_id']].dropna()"
   ]
  },
  {
   "cell_type": "code",
   "execution_count": null,
   "metadata": {},
   "outputs": [],
   "source": [
    "clustering_data.head()"
   ]
  },
  {
   "cell_type": "code",
   "execution_count": null,
   "metadata": {},
   "outputs": [],
   "source": [
    "x = clustering_data.price_per_sq_meter\n",
    "clustering_data.price_per_sq_meter = (x - x.mean())/x.std()/1.2\n",
    "x = clustering_data.latitude\n",
    "clustering_data.latitude = (x - x.mean())/x.std()\n",
    "x = clustering_data.longitude\n",
    "clustering_data.longitude = (x - x.mean())/x.std()"
   ]
  },
  {
   "cell_type": "code",
   "execution_count": null,
   "metadata": {},
   "outputs": [],
   "source": [
    "kmeans = KMeans(n_clusters = 20, init ='k-means++')\n",
    "kmeans.fit(clustering_data[['price_per_sq_meter', 'latitude', 'longitude']]) # Compute k-means clustering.\n",
    "labels = kmeans.predict(clustering_data[['price_per_sq_meter', 'latitude', 'longitude']]) # Labels of each point\n",
    "clustering_data['cluster_label'] = kmeans.fit_predict(clustering_data\\\n",
    "                                                      [['price_per_sq_meter', 'latitude', 'longitude']])\n",
    "centers = kmeans.cluster_centers_ # Coordinates of cluster centers.\n",
    "# clustering_data.head(10)"
   ]
  },
  {
   "cell_type": "code",
   "execution_count": null,
   "metadata": {},
   "outputs": [],
   "source": [
    "clustering_data = clustering_data[['_id', 'cluster_label']]\n",
    "spb = spb.merge(clustering_data, left_on='_id', right_on='_id')"
   ]
  },
  {
   "cell_type": "code",
   "execution_count": null,
   "metadata": {},
   "outputs": [],
   "source": [
    "clustering_data.groupby('cluster_label')['_id'].count().sort_values(ascending=False)"
   ]
  },
  {
   "cell_type": "code",
   "execution_count": null,
   "metadata": {},
   "outputs": [],
   "source": [
    "spb['cluster_label'] = spb['cluster_label'].progress_apply(lambda x: str(x))"
   ]
  },
  {
   "cell_type": "code",
   "execution_count": null,
   "metadata": {},
   "outputs": [],
   "source": [
    "spb.New_building"
   ]
  },
  {
   "cell_type": "code",
   "execution_count": null,
   "metadata": {
    "scrolled": false
   },
   "outputs": [],
   "source": [
    "spb.New_building = spb.New_building.progress_apply(lambda x: 10 if x==1 else 1)"
   ]
  },
  {
   "cell_type": "code",
   "execution_count": null,
   "metadata": {},
   "outputs": [],
   "source": [
    "px.set_mapbox_access_token('pk.eyJ1Ijoibmlrc29iOTciLCJhIjoiY2s4cGs3NzRnMDAxODNnbnR0M3QxNHl5NyJ9.Ppwf_rp0v7AP5-VepAWydw')\n",
    "# spb_with_coord =  spb[['longitude', 'latitude', 'district', 'cian_id']].dropna()\n",
    "fig = px.scatter_mapbox(spb, lat=\"latitude\", lon=\"longitude\", color=\"cluster_label\",\\\n",
    "                        size_max=10, zoom=10, size='New_building',  mapbox_style='carto-darkmatter')\n",
    "fig.show()"
   ]
  },
  {
   "cell_type": "code",
   "execution_count": null,
   "metadata": {},
   "outputs": [],
   "source": [
    "studio_flat = spb[spb.Number_of_rooms==0.8]\n",
    "studio_flat.total_area = studio_flat.total_price/studio_flat.price_per_sq_meter\n",
    "one_flat = spb[spb.Number_of_rooms == 1]\n",
    "two_flat = spb[spb.Number_of_rooms == 2]\n",
    "three_flat = spb[spb.Number_of_rooms == 3]\n",
    "four_flat = spb[spb.Number_of_rooms == 4]\n",
    "five_flat = spb[spb.Number_of_rooms == 5]\n",
    "flat_list = [studio_flat, one_flat, two_flat, three_flat, four_flat, five_flat]"
   ]
  },
  {
   "cell_type": "code",
   "execution_count": null,
   "metadata": {},
   "outputs": [],
   "source": [
    "new_flt = list()\n",
    "for flt in flat_list:\n",
    "    flt = flt[['total_price', 'total_area', 'district', \\\n",
    "               'price_per_sq_meter', 'New_building', 'trade_type', 'cluster_label',\\\n",
    "              'distance']]\\\n",
    "    .dropna()[flt.trade_type=='sale']\n",
    "    flt = flt.loc[flt['total_price'].isin(trimboth(flt.total_price, 0.1))\\\n",
    "                  & flt['total_area'].isin(trimboth(flt.total_area, 0.1))]\n",
    "    new_flt.append(flt)\n",
    "#     print(flt.price_per_sq_meter.mean())\n",
    "studio_flat, one_flat, two_flat, three_flat, four_flat, five_flat = new_flt"
   ]
  },
  {
   "cell_type": "code",
   "execution_count": null,
   "metadata": {},
   "outputs": [],
   "source": []
  },
  {
   "cell_type": "code",
   "execution_count": null,
   "metadata": {},
   "outputs": [],
   "source": []
  },
  {
   "cell_type": "code",
   "execution_count": null,
   "metadata": {},
   "outputs": [],
   "source": []
  },
  {
   "cell_type": "code",
   "execution_count": null,
   "metadata": {},
   "outputs": [],
   "source": []
  },
  {
   "cell_type": "code",
   "execution_count": null,
   "metadata": {},
   "outputs": [],
   "source": []
  },
  {
   "cell_type": "code",
   "execution_count": null,
   "metadata": {},
   "outputs": [],
   "source": []
  },
  {
   "cell_type": "code",
   "execution_count": null,
   "metadata": {
    "scrolled": false
   },
   "outputs": [],
   "source": [
    "px.scatter(x = one_flat.total_area,\n",
    "    y = one_flat.total_price, color = one_flat.cluster_label)#district"
   ]
  },
  {
   "cell_type": "code",
   "execution_count": null,
   "metadata": {},
   "outputs": [],
   "source": [
    "px.scatter(x = one_flat.distance,\n",
    "    y = one_flat.price_per_sq_meter, color = one_flat.cluster_label)#district"
   ]
  },
  {
   "cell_type": "markdown",
   "metadata": {},
   "source": [
    "# Prices"
   ]
  },
  {
   "cell_type": "code",
   "execution_count": null,
   "metadata": {},
   "outputs": [],
   "source": [
    "lst = list(spb.cluster_label.value_counts().keys())"
   ]
  },
  {
   "cell_type": "markdown",
   "metadata": {},
   "source": [
    "## One room flats price box plot"
   ]
  },
  {
   "cell_type": "code",
   "execution_count": null,
   "metadata": {},
   "outputs": [],
   "source": [
    "data = list()\n",
    "for i in range(len(lst)):\n",
    "    data.append(\n",
    "    go.Box(\n",
    "y = one_flat.total_price[one_flat.cluster_label==lst[i]].dropna(),\n",
    "name=lst[i]))"
   ]
  },
  {
   "cell_type": "code",
   "execution_count": null,
   "metadata": {},
   "outputs": [],
   "source": [
    "layout = go.Layout(title=\"Box plot of one-room flat's price in different clusters\")"
   ]
  },
  {
   "cell_type": "code",
   "execution_count": null,
   "metadata": {},
   "outputs": [],
   "source": [
    "fig = go.Figure(data=data, layout=layout)"
   ]
  },
  {
   "cell_type": "code",
   "execution_count": null,
   "metadata": {},
   "outputs": [],
   "source": [
    "pyo.plot(fig, filename='visualization/one_room_price_box_plot', auto_open=False)"
   ]
  },
  {
   "cell_type": "markdown",
   "metadata": {},
   "source": [
    "## Two rooms flats price box plot"
   ]
  },
  {
   "cell_type": "code",
   "execution_count": null,
   "metadata": {},
   "outputs": [],
   "source": [
    "data = list()\n",
    "for i in range(len(lst)):\n",
    "    data.append(\n",
    "    go.Box(\n",
    "y = two_flat.total_price[two_flat.cluster_label==lst[i]].dropna(),\n",
    "name=lst[i]))"
   ]
  },
  {
   "cell_type": "code",
   "execution_count": null,
   "metadata": {},
   "outputs": [],
   "source": [
    "layout = go.Layout(title=\"Box plot of one-room flat's price in different clusters\")"
   ]
  },
  {
   "cell_type": "code",
   "execution_count": null,
   "metadata": {},
   "outputs": [],
   "source": [
    "fig = go.Figure(data=data, layout=layout)"
   ]
  },
  {
   "cell_type": "code",
   "execution_count": null,
   "metadata": {},
   "outputs": [],
   "source": [
    "pyo.plot(fig, filename='visualization/two_rooms_price_box_plot', auto_open=False)"
   ]
  },
  {
   "cell_type": "markdown",
   "metadata": {},
   "source": [
    "## Three rooms flats price box plot"
   ]
  },
  {
   "cell_type": "code",
   "execution_count": null,
   "metadata": {},
   "outputs": [],
   "source": [
    "data = list()\n",
    "for i in range(len(lst)):\n",
    "    data.append(\n",
    "    go.Box(\n",
    "y = three_flat.total_price[three_flat.cluster_label==lst[i]].dropna(),\n",
    "name=lst[i]))"
   ]
  },
  {
   "cell_type": "code",
   "execution_count": null,
   "metadata": {},
   "outputs": [],
   "source": [
    "layout = go.Layout(title=\"Box plot of three-room flat's price in different clusters\")"
   ]
  },
  {
   "cell_type": "code",
   "execution_count": null,
   "metadata": {},
   "outputs": [],
   "source": [
    "fig = go.Figure(data=data, layout=layout)"
   ]
  },
  {
   "cell_type": "code",
   "execution_count": null,
   "metadata": {},
   "outputs": [],
   "source": [
    "pyo.plot(fig, filename='visualization/three_rooms_price_box_plot', auto_open=False)"
   ]
  },
  {
   "cell_type": "markdown",
   "metadata": {},
   "source": [
    "## Four rooms flats price box plot"
   ]
  },
  {
   "cell_type": "code",
   "execution_count": null,
   "metadata": {},
   "outputs": [],
   "source": [
    "data = list()\n",
    "for i in range(len(lst)):\n",
    "    data.append(\n",
    "    go.Box(\n",
    "y = four_flat.total_price[four_flat.cluster_label==lst[i]].dropna(),\n",
    "name=lst[i]))"
   ]
  },
  {
   "cell_type": "code",
   "execution_count": null,
   "metadata": {},
   "outputs": [],
   "source": [
    "layout = go.Layout(title=\"Box plot of four-room flat's price in different clusters\")"
   ]
  },
  {
   "cell_type": "code",
   "execution_count": null,
   "metadata": {},
   "outputs": [],
   "source": [
    "fig = go.Figure(data=data, layout=layout)"
   ]
  },
  {
   "cell_type": "code",
   "execution_count": null,
   "metadata": {},
   "outputs": [],
   "source": [
    "pyo.plot(fig, filename='visualization/four_rooms_price_box_plot', auto_open=False)"
   ]
  },
  {
   "cell_type": "markdown",
   "metadata": {},
   "source": [
    "## Five rooms flats price box plot"
   ]
  },
  {
   "cell_type": "code",
   "execution_count": null,
   "metadata": {},
   "outputs": [],
   "source": [
    "data = list()\n",
    "for i in range(len(lst)):\n",
    "    data.append(\n",
    "    go.Box(\n",
    "y = five_flat.total_price[five_flat.cluster_label==lst[i]].dropna(),\n",
    "name=lst[i]))"
   ]
  },
  {
   "cell_type": "code",
   "execution_count": null,
   "metadata": {},
   "outputs": [],
   "source": [
    "layout = go.Layout(title=\"Box plot of five-room flat's price in different clusters\")"
   ]
  },
  {
   "cell_type": "code",
   "execution_count": null,
   "metadata": {},
   "outputs": [],
   "source": [
    "fig = go.Figure(data=data, layout=layout)"
   ]
  },
  {
   "cell_type": "code",
   "execution_count": null,
   "metadata": {},
   "outputs": [],
   "source": [
    "pyo.plot(fig, filename='visualization/five_rooms_price_box_plot', auto_open=False)"
   ]
  },
  {
   "cell_type": "markdown",
   "metadata": {},
   "source": [
    "# Prices_per_square"
   ]
  },
  {
   "cell_type": "markdown",
   "metadata": {},
   "source": [
    "## One room flats price per meter box plot"
   ]
  },
  {
   "cell_type": "code",
   "execution_count": null,
   "metadata": {},
   "outputs": [],
   "source": [
    "data = list()\n",
    "for i in range(len(lst)):\n",
    "    data.append(\n",
    "    go.Box(\n",
    "y = one_flat.price_per_sq_meter[one_flat.cluster_label==lst[i]].dropna(),\n",
    "name=lst[i]))"
   ]
  },
  {
   "cell_type": "code",
   "execution_count": null,
   "metadata": {},
   "outputs": [],
   "source": [
    "layout = go.Layout(title=\"Box plot of one-room flat's price per meter in different clusters\")"
   ]
  },
  {
   "cell_type": "code",
   "execution_count": null,
   "metadata": {},
   "outputs": [],
   "source": [
    "fig = go.Figure(data=data, layout=layout)"
   ]
  },
  {
   "cell_type": "code",
   "execution_count": null,
   "metadata": {},
   "outputs": [],
   "source": [
    "pyo.plot(fig, filename='visualization/one_room_price_per_meter_box_plot', auto_open=False)"
   ]
  },
  {
   "cell_type": "markdown",
   "metadata": {},
   "source": [
    "## Two rooms flats price per meter box plot"
   ]
  },
  {
   "cell_type": "code",
   "execution_count": null,
   "metadata": {},
   "outputs": [],
   "source": [
    "data = list()\n",
    "for i in range(len(lst)):\n",
    "    data.append(\n",
    "    go.Box(\n",
    "y = two_flat.price_per_sq_meter[two_flat.cluster_label==lst[i]].dropna(),\n",
    "name=lst[i]))"
   ]
  },
  {
   "cell_type": "code",
   "execution_count": null,
   "metadata": {},
   "outputs": [],
   "source": [
    "layout = go.Layout(title=\"Box plot of one-room flat's price per meter in different clusters\")"
   ]
  },
  {
   "cell_type": "code",
   "execution_count": null,
   "metadata": {},
   "outputs": [],
   "source": [
    "fig = go.Figure(data=data, layout=layout)"
   ]
  },
  {
   "cell_type": "code",
   "execution_count": null,
   "metadata": {},
   "outputs": [],
   "source": [
    "pyo.plot(fig, filename='visualization/two_rooms_price_per_meter_box_plot', auto_open=False)"
   ]
  },
  {
   "cell_type": "markdown",
   "metadata": {},
   "source": [
    "## Three rooms flats price per meter box plot"
   ]
  },
  {
   "cell_type": "code",
   "execution_count": null,
   "metadata": {},
   "outputs": [],
   "source": [
    "data = list()\n",
    "for i in range(len(lst)):\n",
    "    data.append(\n",
    "    go.Box(\n",
    "y = three_flat.price_per_sq_meter[three_flat.cluster_label==lst[i]].dropna(),\n",
    "name=lst[i]))"
   ]
  },
  {
   "cell_type": "code",
   "execution_count": null,
   "metadata": {},
   "outputs": [],
   "source": [
    "layout = go.Layout(title=\"Box plot of three-room flat's price per meter in different clusters\")"
   ]
  },
  {
   "cell_type": "code",
   "execution_count": null,
   "metadata": {},
   "outputs": [],
   "source": [
    "fig = go.Figure(data=data, layout=layout)"
   ]
  },
  {
   "cell_type": "code",
   "execution_count": null,
   "metadata": {},
   "outputs": [],
   "source": [
    "pyo.plot(fig, filename='visualization/three_rooms_price_per_meter_box_plot', auto_open=False)"
   ]
  },
  {
   "cell_type": "markdown",
   "metadata": {},
   "source": [
    "## Four rooms flats price per meter box plot"
   ]
  },
  {
   "cell_type": "code",
   "execution_count": null,
   "metadata": {},
   "outputs": [],
   "source": [
    "data = list()\n",
    "for i in range(len(lst)):\n",
    "    data.append(\n",
    "    go.Box(\n",
    "y = four_flat.price_per_sq_meter[four_flat.cluster_label==lst[i]].dropna(),\n",
    "name=lst[i]))"
   ]
  },
  {
   "cell_type": "code",
   "execution_count": null,
   "metadata": {},
   "outputs": [],
   "source": [
    "layout = go.Layout(title=\"Box plot of four-room flat's price per meter in different clusters\")"
   ]
  },
  {
   "cell_type": "code",
   "execution_count": null,
   "metadata": {},
   "outputs": [],
   "source": [
    "fig = go.Figure(data=data, layout=layout)"
   ]
  },
  {
   "cell_type": "code",
   "execution_count": null,
   "metadata": {},
   "outputs": [],
   "source": [
    "pyo.plot(fig, filename='visualization/four_rooms_price_per_meter_box_plot', auto_open=False)"
   ]
  },
  {
   "cell_type": "markdown",
   "metadata": {},
   "source": [
    "## Five rooms flats price per meter box plot"
   ]
  },
  {
   "cell_type": "code",
   "execution_count": null,
   "metadata": {},
   "outputs": [],
   "source": [
    "data = list()\n",
    "for i in range(len(lst)):\n",
    "    data.append(\n",
    "    go.Box(\n",
    "y = five_flat.price_per_sq_meter[five_flat.cluster_label==lst[i]].dropna(),\n",
    "name=lst[i]))"
   ]
  },
  {
   "cell_type": "code",
   "execution_count": null,
   "metadata": {},
   "outputs": [],
   "source": [
    "layout = go.Layout(title=\"Box plot of five-room flat's price per meter in different clusters\")"
   ]
  },
  {
   "cell_type": "code",
   "execution_count": null,
   "metadata": {},
   "outputs": [],
   "source": [
    "fig = go.Figure(data=data, layout=layout)"
   ]
  },
  {
   "cell_type": "code",
   "execution_count": null,
   "metadata": {},
   "outputs": [],
   "source": [
    "pyo.plot(fig, filename='visualization/five_rooms_price_per_meter_box_plot', auto_open=False)"
   ]
  },
  {
   "cell_type": "code",
   "execution_count": null,
   "metadata": {},
   "outputs": [],
   "source": [
    "fig = px.histogram(one_flat[one_flat.district==\"Приморский\"], x=\"total_price\"\n",
    "                   , nbins=20, color=\"New_building\", opacity=0.8)\n",
    "fig.show()"
   ]
  },
  {
   "cell_type": "code",
   "execution_count": null,
   "metadata": {},
   "outputs": [],
   "source": [
    "fig = px.histogram(one_flat[one_flat.district==\"Выборгский\"], x=\"total_price\"\n",
    "                   , nbins=20, color=\"New_building\")\n",
    "fig.show()"
   ]
  }
 ],
 "metadata": {
  "kernelspec": {
   "display_name": "Python 3",
   "language": "python",
   "name": "python3"
  },
  "language_info": {
   "codemirror_mode": {
    "name": "ipython",
    "version": 3
   },
   "file_extension": ".py",
   "mimetype": "text/x-python",
   "name": "python",
   "nbconvert_exporter": "python",
   "pygments_lexer": "ipython3",
   "version": "3.7.4"
  }
 },
 "nbformat": 4,
 "nbformat_minor": 2
}
